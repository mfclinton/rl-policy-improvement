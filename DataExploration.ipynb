{
 "cells": [
  {
   "cell_type": "code",
   "execution_count": 1,
   "metadata": {},
   "outputs": [],
   "source": [
    "import numpy as np\n",
    "from scipy import stats"
   ]
  },
  {
   "cell_type": "code",
   "execution_count": 2,
   "metadata": {},
   "outputs": [],
   "source": [
    "num_states = 18\n",
    "num_actions = 4\n",
    "gamma = 0.95"
   ]
  },
  {
   "cell_type": "code",
   "execution_count": 4,
   "metadata": {},
   "outputs": [],
   "source": [
    "num_episodes = -1\n",
    "histories = []\n",
    "with open(\"data.csv\") as file:\n",
    "    cur_episode = -1\n",
    "    cur_history = None\n",
    "    cur_timestep = -1\n",
    "    for idx, line in enumerate(file):\n",
    "        if(idx == 0):\n",
    "            num_episodes = int(line)\n",
    "            continue\n",
    "        \n",
    "        data = line.split(\",\")\n",
    "        if(len(data) == 1):\n",
    "            num_time_steps = int(line)\n",
    "            cur_episode += 1\n",
    "            cur_timestep = 0\n",
    "            histories.append(np.zeros((num_time_steps, 4)))\n",
    "            continue\n",
    "            \n",
    "        St, At, Rt, pib = data\n",
    "        histories[cur_episode][cur_timestep, 0] = int(St)\n",
    "        histories[cur_episode][cur_timestep, 1] = int(At)\n",
    "        histories[cur_episode][cur_timestep, 2] = float(Rt)\n",
    "        histories[cur_episode][cur_timestep, 3] = float(pib)         \n",
    "        cur_timestep += 1\n",
    "        \n",
    "        "
   ]
  },
  {
   "cell_type": "code",
   "execution_count": 24,
   "metadata": {},
   "outputs": [],
   "source": [
    "dictionary = {}\n",
    "for i in range(len(histories)):\n",
    "    traj = histories[i]\n",
    "    total_return = traj[:,2].sum()\n",
    "    states = traj[:,0]\n",
    "    \n",
    "    for j in range(len(traj)):\n",
    "        R = traj[j,2]\n",
    "        \n",
    "        next_state = \"none\"\n",
    "        if(j + 1 in range(len(traj))):\n",
    "            next_state = str(traj[j+1,0])\n",
    "        \n",
    "        key = str(traj[j,0]) + \",\" + str(traj[j,1]) + \",\" + next_state\n",
    "        if(R == 10):\n",
    "            dictionary.setdefault(key, []).append(1)\n",
    "        \n",
    "    "
   ]
  },
  {
   "cell_type": "code",
   "execution_count": 25,
   "metadata": {},
   "outputs": [
    {
     "data": {
      "text/plain": [
       "dict_keys(['11.0,1.0,none', '14.0,3.0,none'])"
      ]
     },
     "execution_count": 25,
     "metadata": {},
     "output_type": "execute_result"
    }
   ],
   "source": [
    "dictionary.keys()"
   ]
  },
  {
   "cell_type": "code",
   "execution_count": null,
   "metadata": {},
   "outputs": [],
   "source": []
  }
 ],
 "metadata": {
  "kernelspec": {
   "display_name": "Python 3",
   "language": "python",
   "name": "python3"
  },
  "language_info": {
   "codemirror_mode": {
    "name": "ipython",
    "version": 3
   },
   "file_extension": ".py",
   "mimetype": "text/x-python",
   "name": "python",
   "nbconvert_exporter": "python",
   "pygments_lexer": "ipython3",
   "version": "3.7.4"
  }
 },
 "nbformat": 4,
 "nbformat_minor": 4
}
