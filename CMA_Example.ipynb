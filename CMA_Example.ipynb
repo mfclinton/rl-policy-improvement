{
 "cells": [
  {
   "cell_type": "code",
   "execution_count": 1,
   "metadata": {},
   "outputs": [],
   "source": [
    "import cma\n",
    "import numpy as np\n",
    "from cma.constraints_handler import AugmentedLagrangian, PopulationEvaluator"
   ]
  },
  {
   "cell_type": "code",
   "execution_count": 7,
   "metadata": {},
   "outputs": [
    {
     "name": "stdout",
     "output_type": "stream",
     "text": [
      "(3_w,7)-aCMA-ES (mu_w=2.3,w_1=58%) in dimension 3 (seed=521587, Tue Dec  8 21:19:43 2020)\n",
      "1\n"
     ]
    }
   ],
   "source": [
    "es = cma.CMAEvolutionStrategy(3 * [0], 0.5, {'bounds': [0, .75]})\n",
    "actual_solution = np.array([1.,0.,1.])\n",
    "while not es.stop():\n",
    "    solutions = es.ask(1)\n",
    "    print(len(solutions))\n",
    "    break\n",
    "    es.tell(solutions, [-np.sum(np.abs(solution)) for solution in solutions])"
   ]
  },
  {
   "cell_type": "code",
   "execution_count": null,
   "metadata": {},
   "outputs": [],
   "source": [
    "m = 2 #constraints"
   ]
  },
  {
   "cell_type": "code",
   "execution_count": null,
   "metadata": {},
   "outputs": [],
   "source": [
    "actual_solution = np.array([1.,0.,1.])\n",
    "def objective(x):\n",
    "    return np.sum(np.abs(x - actual_solution))\n",
    "\n",
    "def constraints(x):\n",
    "    return np.array([1 - x[1]])"
   ]
  },
  {
   "cell_type": "code",
   "execution_count": null,
   "metadata": {},
   "outputs": [],
   "source": [
    "es = cma.CMAEvolutionStrategy(3 * [1], 1, {'termination_callback': lambda es: sum(es.mean**2) < 1e-8})\n",
    "al = AugmentedLagrangian(es.N)"
   ]
  },
  {
   "cell_type": "code",
   "execution_count": null,
   "metadata": {},
   "outputs": [],
   "source": [
    "while not es.stop():\n",
    "    solutions = es.ask()\n",
    "    print(solutions[0], len(solutions))\n",
    "    eva = PopulationEvaluator(objective, constraints)(solutions, m=es.mean)\n",
    "    al.set_coefficients(eva.F, eva.G)  # set lam and mu, not part of the original algorithm\n",
    "    al.update(eva.m['f'], eva.m['g'])\n",
    "    es.tell(eva.X, [f + sum(al(g)) for f, g in zip(eva.F, eva.G)])"
   ]
  },
  {
   "cell_type": "markdown",
   "metadata": {},
   "source": []
  }
 ],
 "metadata": {
  "kernelspec": {
   "display_name": "Python 3",
   "language": "python",
   "name": "python3"
  },
  "language_info": {
   "codemirror_mode": {
    "name": "ipython",
    "version": 3
   },
   "file_extension": ".py",
   "mimetype": "text/x-python",
   "name": "python",
   "nbconvert_exporter": "python",
   "pygments_lexer": "ipython3",
   "version": "3.7.4"
  }
 },
 "nbformat": 4,
 "nbformat_minor": 4
}
