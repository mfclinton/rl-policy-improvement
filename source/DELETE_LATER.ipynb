{
 "cells": [
  {
   "cell_type": "code",
   "execution_count": 1,
   "metadata": {},
   "outputs": [],
   "source": [
    "import numpy as np\n",
    "from scipy import stats\n",
    "from lib.DataManager import *\n",
    "from lib.PolicyStats import *\n",
    "from lib.Gridworld import *\n",
    "from lib.Mockworld import *\n",
    "import os\n",
    "import cma\n",
    "from cma.constraints_handler import AugmentedLagrangian, PopulationEvaluator\n",
    "from IPython import display\n",
    "import pickle"
   ]
  },
  {
   "cell_type": "code",
   "execution_count": 2,
   "metadata": {},
   "outputs": [],
   "source": [
    "policies_dir = \"C:\\\\Users\\\\mfcli\\\\Documents\\\\School\\\\F20\\\\687\\\\rl-policy-improvement\\\\\" #PATH TO POLCICIES DIR"
   ]
  },
  {
   "cell_type": "code",
   "execution_count": 3,
   "metadata": {},
   "outputs": [],
   "source": [
    "%load_ext autoreload\n",
    "%autoreload 2"
   ]
  },
  {
   "cell_type": "code",
   "execution_count": 4,
   "metadata": {},
   "outputs": [],
   "source": [
    "num_states = 18\n",
    "num_actions = 4\n",
    "gamma = 0.95\n",
    "delta = 0.01\n",
    "USE_PDIS = False\n",
    "es_path = \"pickles/van/saved-cma-PDIS-20.pkl\""
   ]
  },
  {
   "cell_type": "code",
   "execution_count": 5,
   "metadata": {},
   "outputs": [
    {
     "name": "stdout",
     "output_type": "stream",
     "text": [
      "ES_Convergence : 96.95363637086997\n"
     ]
    }
   ],
   "source": [
    "es = pickle.load(open(es_path, \"rb\"))\n",
    "print(\"ES_Convergence : \" + str(sum(es.mean**2)))"
   ]
  },
  {
   "cell_type": "code",
   "execution_count": 13,
   "metadata": {},
   "outputs": [
    {
     "name": "stdout",
     "output_type": "stream",
     "text": [
      "[[ 0.03161006  0.26780965 -1.01359704 -1.67823321]\n",
      " [-0.46051264  1.16879679 -1.25463329  0.03385143]\n",
      " [ 0.7153404   1.80633033 -1.70216774 -0.59761643]\n",
      " [-1.08521577 -0.58794894 -0.01763329  0.20279228]\n",
      " [-0.14401615  1.58797615 -0.99136062  1.9674264 ]\n",
      " [-1.80937065  2.04742834  0.10963905 -0.61151102]\n",
      " [-1.01968628  0.99023816  1.53403692  1.65883713]\n",
      " [-1.33611728  1.15993218  0.99389051 -0.41680604]\n",
      " [-0.88602544  2.21349355 -0.40083784  0.24044395]\n",
      " [-1.93705856  1.94014309 -1.72710407 -0.91755077]\n",
      " [-0.66831714  0.76924395  0.33136741 -0.73140868]\n",
      " [-0.26174331  1.2207939  -0.29418432  0.99439654]\n",
      " [-0.38619713 -2.10818568 -3.30394636  2.74169809]\n",
      " [-0.58350615 -0.65438159 -0.43227923  3.06925962]\n",
      " [-2.5546891  -0.71164196 -2.13477375  1.90739844]\n",
      " [ 1.          1.          1.          1.        ]\n",
      " [-2.43044915 -2.80385997  0.18113117  3.30194342]\n",
      " [-0.88950078 -0.87644056  0.3927787   2.36843342]]\n"
     ]
    }
   ],
   "source": [
    "i = 52\n",
    "path = \"policy\" + str(i) + \".txt\"\n",
    "solution = LoadSolutionFromTxt(policies_dir + path, num_states, num_actions)\n",
    "print(solution)"
   ]
  },
  {
   "cell_type": "code",
   "execution_count": 14,
   "metadata": {},
   "outputs": [
    {
     "name": "stdout",
     "output_type": "stream",
     "text": [
      "[[-1.63036554 -2.13712356 -0.75465464  1.85559699]\n",
      " [-1.51615156 -0.59172473 -1.48644822  0.22377632]\n",
      " [-0.28920805  0.99476327 -1.57995042 -1.10176389]\n",
      " [ 0.79926837  0.73278041  0.87856547  0.81572841]\n",
      " [-0.4866192   1.80871845  0.50644994  1.05536161]\n",
      " [-0.07261063  1.2298686  -0.0930012  -0.52438678]\n",
      " [-0.35996997  1.77597238 -1.11882192 -1.04284472]\n",
      " [-0.6108638   1.81126792 -0.59717598  0.27023102]\n",
      " [-1.31713311  1.05059525 -0.47137032 -0.65932378]\n",
      " [-0.29082585  0.36875546  0.5600496   0.76769148]\n",
      " [-1.96173917 -0.92154578 -1.77954179  0.99698912]\n",
      " [-0.37770078  1.21192533 -1.97556045 -0.54228363]\n",
      " [ 1.49666625  0.23122322 -0.50820528  0.15695249]\n",
      " [ 0.93314148  0.73286227 -0.82693839  2.57860063]\n",
      " [-0.27119482 -1.37272966  0.03668457  2.26635295]\n",
      " [-0.45912823  1.21300868  0.34838734 -0.46330919]\n",
      " [-0.98185847 -0.86927898  1.56295027  2.73659999]\n",
      " [-1.01688701 -2.1933585  -0.02373731  2.75597309]]\n"
     ]
    }
   ],
   "source": [
    "other_solution = es.ask(1)[0].reshape(num_states, num_actions)\n",
    "print(other_solution)"
   ]
  },
  {
   "cell_type": "code",
   "execution_count": 8,
   "metadata": {},
   "outputs": [
    {
     "name": "stdout",
     "output_type": "stream",
     "text": [
      "[[-2.43044915 -2.80385997  0.18113117  3.30194342]\n",
      " [-0.88950078 -0.87644056  0.3927787   2.36843342]]\n"
     ]
    }
   ],
   "source": []
  },
  {
   "cell_type": "code",
   "execution_count": 16,
   "metadata": {},
   "outputs": [
    {
     "name": "stdout",
     "output_type": "stream",
     "text": [
      "51\n",
      "53\n",
      "54\n",
      "57\n",
      "59\n",
      "66\n",
      "96\n",
      "3.159133952018084\n",
      "[[0.08821855 0.84698666 0.30637036 1.13231173]]\n",
      "vs\n",
      "[[ 0.03161006  0.26780965 -1.01359704 -1.67823321]]\n"
     ]
    }
   ],
   "source": [
    "max_dist = 0\n",
    "farthest_solution = None\n",
    "for j in range(50, 100):\n",
    "    path = \"policy\" + str(j + 1) + \".txt\"\n",
    "    temp_solution = LoadSolutionFromTxt(policies_dir + path, num_states, num_actions)\n",
    "    solution = solution[:1,:]\n",
    "    temp_solution = temp_solution[:1,:]\n",
    "    dist = np.linalg.norm(solution - temp_solution)\n",
    "    if (dist > max_dist):\n",
    "        print(j+1)\n",
    "        max_dist = dist\n",
    "        farthest_solution = temp_solution\n",
    "print(max_dist)\n",
    "print(farthest_solution)\n",
    "print(\"vs\")\n",
    "print(solution)\n",
    "other_solution = farthest_solution"
   ]
  },
  {
   "cell_type": "code",
   "execution_count": 74,
   "metadata": {},
   "outputs": [],
   "source": [
    "def policy_softmax(policy):\n",
    "    numerators = np.exp(policy)\n",
    "    return (numerators.T / np.sum(numerators, axis=1)).T"
   ]
  },
  {
   "cell_type": "code",
   "execution_count": 82,
   "metadata": {},
   "outputs": [
    {
     "name": "stdout",
     "output_type": "stream",
     "text": [
      "[1 1 1 3 3 1 3 1 1 1 1 1 3 3 3 0 3 3]\n",
      "[3 3 1 3 1 2 1 1 1 1 3 1 0 3 3 1 3 3]\n",
      "2.22977055110787\n"
     ]
    }
   ],
   "source": [
    "new_policy = policy_softmax(solution)\n",
    "other_policy = policy_softmax(other_solution)\n",
    "print(np.argmax(new_policy, axis=1))\n",
    "print(np.argmax(other_policy, axis=1))\n",
    "print(np.linalg.norm(new_policy - other_policy))"
   ]
  },
  {
   "cell_type": "code",
   "execution_count": 41,
   "metadata": {},
   "outputs": [
    {
     "name": "stdout",
     "output_type": "stream",
     "text": [
      "line 0\n",
      "line 1000000\n",
      "line 2000000\n",
      "line 3000000\n",
      "line 4000000\n",
      "line 5000000\n",
      "line 6000000\n",
      "line 7000000\n",
      "line 8000000\n",
      "line 9000000\n",
      "line 10000000\n",
      "line 11000000\n",
      "line 12000000\n",
      "line 13000000\n",
      "line 14000000\n",
      "line 15000000\n",
      "line 16000000\n",
      "line 17000000\n",
      "line 18000000\n",
      "line 19000000\n",
      "line 20000000\n",
      "line 21000000\n",
      "line 22000000\n",
      "line 23000000\n",
      "line 24000000\n",
      "line 25000000\n",
      "line 26000000\n",
      "line 27000000\n",
      "line 28000000\n",
      "line 29000000\n",
      "line 30000000\n",
      "line 31000000\n",
      "line 32000000\n",
      "line 33000000\n",
      "line 34000000\n",
      "line 35000000\n",
      "line 36000000\n",
      "line 37000000\n",
      "line 38000000\n",
      "line 39000000\n",
      "line 40000000\n",
      "line 41000000\n",
      "line 42000000\n",
      "line 43000000\n",
      "line 44000000\n",
      "line 45000000\n",
      "line 46000000\n",
      "line 47000000\n",
      "line 48000000\n",
      "line 49000000\n",
      "line 50000000\n",
      "line 51000000\n",
      "line 52000000\n",
      "line 53000000\n",
      "line 54000000\n",
      "line 55000000\n",
      "line 56000000\n",
      "line 57000000\n",
      "line 58000000\n",
      "line 59000000\n",
      "line 60000000\n",
      "line 61000000\n",
      "line 62000000\n"
     ]
    }
   ],
   "source": [
    "path = \"data\\data.csv\"\n",
    "histories = GetHistories(path, gamma)"
   ]
  },
  {
   "cell_type": "code",
   "execution_count": 43,
   "metadata": {},
   "outputs": [
    {
     "name": "stdout",
     "output_type": "stream",
     "text": [
      "800000\n",
      "200000\n"
     ]
    }
   ],
   "source": [
    "train, test = SplitData(histories)"
   ]
  },
  {
   "cell_type": "code",
   "execution_count": 44,
   "metadata": {},
   "outputs": [
    {
     "name": "stdout",
     "output_type": "stream",
     "text": [
      "[[0.25  0.25  0.25  0.25 ]\n",
      " [0.25  0.25  0.25  0.25 ]\n",
      " [0.25  0.25  0.25  0.25 ]\n",
      " [0.25  0.25  0.25  0.25 ]\n",
      " [0.25  0.25  0.25  0.25 ]\n",
      " [0.25  0.25  0.25  0.25 ]\n",
      " [0.25  0.25  0.25  0.25 ]\n",
      " [0.25  0.25  0.25  0.25 ]\n",
      " [0.25  0.25  0.25  0.25 ]\n",
      " [0.25  0.25  0.25  0.25 ]\n",
      " [0.25  0.25  0.25  0.25 ]\n",
      " [0.25  0.25  0.25  0.25 ]\n",
      " [0.25  0.25  0.25  0.25 ]\n",
      " [0.25  0.25  0.25  0.25 ]\n",
      " [0.25  0.25  0.25  0.25 ]\n",
      " [0.    0.    0.    0.   ]\n",
      " [0.25  0.25  0.25  0.25 ]\n",
      " [0.375 0.375 0.125 0.125]]\n"
     ]
    }
   ],
   "source": [
    "exploration_policy = GetPolicy(train, num_states, num_actions, 1000)\n",
    "print(exploration_policy)"
   ]
  },
  {
   "cell_type": "code",
   "execution_count": 71,
   "metadata": {},
   "outputs": [],
   "source": [
    "ISFunc = ImportanceSampling\n",
    "if(USE_PDIS):\n",
    "    ISFunc = PDImportanceSampling"
   ]
  },
  {
   "cell_type": "code",
   "execution_count": 72,
   "metadata": {},
   "outputs": [
    {
     "name": "stdout",
     "output_type": "stream",
     "text": [
      "7.710688164186677 508.4916303919843 2.326366519648287 447.21359549995793\n",
      "2.420429029095625\n"
     ]
    }
   ],
   "source": [
    "print(Safety_Prediction(train, exploration_policy, gamma, new_policy, ISFunc, delta, len(test), None))"
   ]
  },
  {
   "cell_type": "code",
   "execution_count": 76,
   "metadata": {},
   "outputs": [],
   "source": [
    "import math\n",
    "import numpy as np\n",
    "import sys\n",
    "from sklearn.linear_model import LinearRegression\n",
    "from sklearn.model_selection import train_test_split\n",
    "from scipy.stats import t\n",
    "from scipy.optimize import minimize # The black-box optimization algorithm used to find a candidate solution\n",
    "\n",
    "np.set_printoptions(precision=5, suppress=True)\n",
    "\n",
    "\n",
    "# This function returns the inverse of Student's t CDF using the degrees of freedom in nu for the corresponding\n",
    "# probabilities in p. It is a Python implementation of Matlab's tinv function: https://www.mathworks.com/help/stats/tinv.html\n",
    "def tinv(p, nu):\n",
    "\treturn t.ppf(p, nu)\n",
    "\n",
    "\n",
    "# This function computes the sample standard deviation of the vector v, with Bessel's correction\n",
    "def stddev(v):\n",
    "\tn = v.size\n",
    "\tvariance = (np.var(v) * n) / (n-1) # Variance with Bessel's correction\n",
    "\treturn np.sqrt(variance)           # Compute the standard deviation\n",
    "\n",
    "\n",
    "# This function computes a (1-delta)-confidence upper bound on the expected value of a random\n",
    "# variable using Student's t-test. It analyzes the data in v, which holds i.i.d. samples of the random variable.\n",
    "# The upper confidence bound is given by \n",
    "#    sampleMean + sampleStandardDeviation/sqrt(n) * tinv(1-delta, n-1),\n",
    "#    where n is the number of points in v.\n",
    "def ttestUpperBound(v, delta):\t\n",
    "\tn  = v.size\n",
    "\tres = v.mean() + stddev(v) / math.sqrt(n) * tinv(1.0 - delta, n - 1)\n",
    "\treturn res\n",
    "\n",
    "\n",
    "# This function works similarly to ttestUpperBound, but returns a conservative upper bound. It uses \n",
    "# data in the vector v (i.i.d. samples of a random variable) to compute the relevant statistics \n",
    "# (mean and standard deviation) but assumes that the number of points being analyzed is k instead of |v|.\n",
    "# This function is used to estimate what the output of ttestUpperBound would be if it were to\n",
    "# be run on a new vector, v, containing values sampled from the same distribution as\n",
    "# the points in v. The 2.0 factor in the calculation is used to double the width of the confidence interval,\n",
    "# when predicting the outcome of the safety test, in order to make the algorithm less confident/more conservative.\n",
    "def predictTTestUpperBound(v, delta, k):\n",
    "\t# conservative prediction of what the upper bound will be in the safety test for the a given constraint\n",
    "\tprint(v.mean(), stddev(v), tinv(1.0 - delta, k - 1), math.sqrt(k))\n",
    "\tres = v.mean() - 2.0 * stddev(v) / math.sqrt(k) * tinv(1.0 - delta, k - 1)\n",
    "\treturn res\n",
    "\t\n"
   ]
  },
  {
   "cell_type": "code",
   "execution_count": null,
   "metadata": {},
   "outputs": [],
   "source": []
  },
  {
   "cell_type": "code",
   "execution_count": 67,
   "metadata": {},
   "outputs": [],
   "source": [
    "v = []\n",
    "for ep in range(len(train)):\n",
    "    # if(ep % update_freq == 0):\n",
    "    #     print(str(ep) + \" / \" + str(len(histories)))\n",
    "    v.append(ISFunc(train[ep], exploration_policy, gamma, new_policy))\n",
    "v = np.array(v)"
   ]
  },
  {
   "cell_type": "code",
   "execution_count": 77,
   "metadata": {},
   "outputs": [
    {
     "name": "stdout",
     "output_type": "stream",
     "text": [
      "7.710688164187135 508.49163039202347 2.326366519648287 447.21359549995793\n",
      "2.4204290290956765\n"
     ]
    }
   ],
   "source": [
    "print(predictTTestUpperBound(v, delta, len(test)))"
   ]
  },
  {
   "cell_type": "code",
   "execution_count": null,
   "metadata": {},
   "outputs": [],
   "source": []
  }
 ],
 "metadata": {
  "kernelspec": {
   "display_name": "Python 3",
   "language": "python",
   "name": "python3"
  },
  "language_info": {
   "codemirror_mode": {
    "name": "ipython",
    "version": 3
   },
   "file_extension": ".py",
   "mimetype": "text/x-python",
   "name": "python",
   "nbconvert_exporter": "python",
   "pygments_lexer": "ipython3",
   "version": "3.7.4"
  }
 },
 "nbformat": 4,
 "nbformat_minor": 4
}
