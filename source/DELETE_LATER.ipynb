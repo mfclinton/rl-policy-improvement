{
 "cells": [
  {
   "cell_type": "code",
   "execution_count": 20,
   "metadata": {},
   "outputs": [],
   "source": [
    "import numpy as np\n",
    "from lib.DataManager import *\n",
    "from lib.PolicyStats import *"
   ]
  },
  {
   "cell_type": "code",
   "execution_count": 28,
   "metadata": {},
   "outputs": [],
   "source": [
    "policies_dir = \"C:\\\\Users\\\\mfcli\\\\Documents\\\\School\\\\F20\\\\687\\\\rl-policy-improvement\\\\\" #PATH TO POLCICIES DIR"
   ]
  },
  {
   "cell_type": "code",
   "execution_count": 29,
   "metadata": {},
   "outputs": [],
   "source": [
    "num_states = 18\n",
    "num_actions = 4"
   ]
  },
  {
   "cell_type": "code",
   "execution_count": 31,
   "metadata": {},
   "outputs": [],
   "source": [
    "i = 1\n",
    "path = \"policy\" + str(i) + \".txt\"\n",
    "solution = LoadSolutionFromTxt(policies_dir + path, num_states, num_actions)"
   ]
  },
  {
   "cell_type": "code",
   "execution_count": 32,
   "metadata": {},
   "outputs": [],
   "source": [
    "def policy_softmax(policy):\n",
    "    numerators = np.exp(policy)\n",
    "    return (numerators.T / np.sum(numerators, axis=1)).T"
   ]
  },
  {
   "cell_type": "code",
   "execution_count": 37,
   "metadata": {},
   "outputs": [
    {
     "name": "stdout",
     "output_type": "stream",
     "text": [
      "[[1.48786575e-02 7.88295997e-01 4.36278209e-04 1.96389068e-01]\n",
      " [3.22379521e-04 9.19488126e-01 2.13318917e-02 5.88576032e-02]\n",
      " [4.04828892e-01 5.49193632e-01 4.59570942e-02 2.03821238e-05]\n",
      " [6.33727801e-02 6.66067819e-04 7.62108871e-01 1.73852281e-01]\n",
      " [6.93656455e-05 7.76935829e-02 5.16974868e-01 4.05262184e-01]\n",
      " [3.16648607e-05 1.29303068e-04 2.94997050e-08 9.99839003e-01]\n",
      " [8.70683305e-02 3.44651572e-01 6.37842684e-03 5.61901671e-01]\n",
      " [1.61804178e-04 9.07455483e-01 8.18284660e-02 1.05542464e-02]\n",
      " [7.74258790e-01 7.94166234e-04 1.20203142e-04 2.24826840e-01]\n",
      " [3.10774655e-03 4.05215825e-04 3.72374220e-07 9.96486665e-01]\n",
      " [4.64520438e-04 2.04731288e-04 2.22410102e-02 9.77089738e-01]\n",
      " [2.13348585e-03 9.95807807e-01 5.91678969e-05 1.99953944e-03]\n",
      " [9.88711434e-01 3.97825689e-03 6.99170645e-03 3.18602492e-04]\n",
      " [9.90705000e-01 5.88974888e-03 2.23424015e-04 3.18182709e-03]\n",
      " [9.98528806e-01 6.78120622e-05 7.95122037e-05 1.32387003e-03]\n",
      " [1.43998196e-02 9.84805255e-01 7.79108170e-04 1.58171233e-05]\n",
      " [4.38932693e-01 5.61009578e-01 1.73877355e-05 4.03417436e-05]\n",
      " [4.56759171e-01 5.43195717e-01 1.46622300e-07 4.49650831e-05]]\n"
     ]
    }
   ],
   "source": [
    "new_policy = policy_softmax(solution)\n",
    "print(new_policy)"
   ]
  },
  {
   "cell_type": "code",
   "execution_count": 34,
   "metadata": {},
   "outputs": [
    {
     "name": "stdout",
     "output_type": "stream",
     "text": [
      "[1 1]\n",
      "[[1 1 1 2]\n",
      " [2 3 3 1]\n",
      " [0 3 3 1]\n",
      " [0 0 0 1]]\n"
     ]
    }
   ],
   "source": [
    "greed_policy = np.argmax(new_policy,axis=1)\n",
    "\n",
    "print(greed_policy[-2:])\n",
    "print(greed_policy[:-2].reshape(4,4))"
   ]
  },
  {
   "cell_type": "code",
   "execution_count": null,
   "metadata": {},
   "outputs": [],
   "source": []
  }
 ],
 "metadata": {
  "kernelspec": {
   "display_name": "Python 3",
   "language": "python",
   "name": "python3"
  },
  "language_info": {
   "codemirror_mode": {
    "name": "ipython",
    "version": 3
   },
   "file_extension": ".py",
   "mimetype": "text/x-python",
   "name": "python",
   "nbconvert_exporter": "python",
   "pygments_lexer": "ipython3",
   "version": "3.7.4"
  }
 },
 "nbformat": 4,
 "nbformat_minor": 4
}
