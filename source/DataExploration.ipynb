{
 "cells": [
  {
   "cell_type": "code",
   "execution_count": 1,
   "metadata": {},
   "outputs": [],
   "source": [
    "import numpy as np\n",
    "from scipy import stats\n",
    "from lib.DataManager import *\n",
    "from lib.PolicyStats import *\n",
    "import seaborn as sns\n",
    "import matplotlib.pyplot as plt"
   ]
  },
  {
   "cell_type": "code",
   "execution_count": 2,
   "metadata": {},
   "outputs": [],
   "source": [
    "num_states = 18\n",
    "num_actions = 4\n",
    "gamma = 0.95"
   ]
  },
  {
   "cell_type": "code",
   "execution_count": 3,
   "metadata": {},
   "outputs": [
    {
     "name": "stdout",
     "output_type": "stream",
     "text": [
      "line 0\n",
      "line 1000000\n",
      "line 2000000\n",
      "line 3000000\n",
      "line 4000000\n",
      "line 5000000\n",
      "line 6000000\n",
      "line 7000000\n",
      "line 8000000\n",
      "line 9000000\n",
      "line 10000000\n",
      "line 11000000\n",
      "line 12000000\n",
      "line 13000000\n",
      "line 14000000\n",
      "line 15000000\n",
      "line 16000000\n",
      "line 17000000\n",
      "line 18000000\n",
      "line 19000000\n",
      "line 20000000\n",
      "line 21000000\n",
      "line 22000000\n",
      "line 23000000\n",
      "line 24000000\n",
      "line 25000000\n",
      "line 26000000\n",
      "line 27000000\n",
      "line 28000000\n",
      "line 29000000\n",
      "line 30000000\n",
      "line 31000000\n",
      "line 32000000\n",
      "line 33000000\n",
      "line 34000000\n",
      "line 35000000\n",
      "line 36000000\n",
      "line 37000000\n",
      "line 38000000\n",
      "line 39000000\n",
      "line 40000000\n",
      "line 41000000\n",
      "line 42000000\n",
      "line 43000000\n",
      "line 44000000\n",
      "line 45000000\n",
      "line 46000000\n",
      "line 47000000\n",
      "line 48000000\n",
      "line 49000000\n",
      "line 50000000\n",
      "line 51000000\n",
      "line 52000000\n",
      "line 53000000\n",
      "line 54000000\n",
      "line 55000000\n",
      "line 56000000\n",
      "line 57000000\n",
      "line 58000000\n",
      "line 59000000\n",
      "line 60000000\n",
      "line 61000000\n",
      "line 62000000\n"
     ]
    }
   ],
   "source": [
    "histories = GetHistories(\"data\\data.csv\", gamma)"
   ]
  },
  {
   "cell_type": "code",
   "execution_count": 4,
   "metadata": {},
   "outputs": [
    {
     "name": "stderr",
     "output_type": "stream",
     "text": [
      "C:\\Users\\mfcli\\Anaconda3\\lib\\site-packages\\ipykernel_launcher.py:10: RuntimeWarning: invalid value encountered in true_divide\n",
      "  # Remove the CWD from sys.path while we load stuff.\n"
     ]
    },
    {
     "name": "stdout",
     "output_type": "stream",
     "text": [
      "[[0.90173656 1.01448076 0.90366319 1.01260974]\n",
      " [0.75448454 0.85712337 0.7379564  0.8590507 ]\n",
      " [0.66805473 0.77856771 0.64050155 0.73393074]\n",
      " [0.61952511 0.74602444 0.60656186 0.62031144]\n",
      " [0.73698428 0.85936001 0.76036595 0.85967599]\n",
      " [0.68429104 0.84149655 0.68306061 0.84041333]\n",
      " [0.63822393 0.86200497 0.63668589 0.79241709]\n",
      " [0.61041572 0.92250729 0.64157463 0.68931493]\n",
      " [0.64069305 0.73516115 0.66984501 0.77909927]\n",
      " [0.64047618 0.79171919 0.64054935 0.86143708]\n",
      " [0.64400119 0.92335176 0.64277354 0.92781911]\n",
      " [0.64531241 1.17327574 0.70143849 0.83152127]\n",
      " [0.60736169 0.62182635 0.62057355 0.7481903 ]\n",
      " [0.64437295 0.68702019 0.61071078 0.92155374]\n",
      " [0.69917495 0.82731494 0.64301256 1.17192212]\n",
      " [       nan        nan        nan        nan]\n",
      " [1.54810183 1.54756594 0.79357213 0.80284125]\n",
      " [0.92112874 0.92122655 1.92610781 1.92799767]]\n"
     ]
    }
   ],
   "source": [
    "avg_returns = np.zeros((num_states,num_actions))\n",
    "visit_count = np.zeros((num_states,num_actions))\n",
    "for traj in histories:\n",
    "    total_return = traj[\"return\"]\n",
    "    states = traj[\"St\"]\n",
    "    actions = traj[\"At\"]\n",
    "    avg_returns[states, actions] += total_return\n",
    "    visit_count[states, actions] += 1\n",
    "    \n",
    "avg_returns /= visit_count\n",
    "print(avg_returns)\n",
    "    \n",
    "    "
   ]
  },
  {
   "cell_type": "code",
   "execution_count": 5,
   "metadata": {},
   "outputs": [
    {
     "name": "stdout",
     "output_type": "stream",
     "text": [
      "[[[405669.      0. 406398.      0.]\n",
      "  [     0.      0.      0. 491914.]\n",
      "  [     0.      0.      0.      0.]\n",
      "  ...\n",
      "  [     0.      0.      0.      0.]\n",
      "  [     0.      0.      0.      0.]\n",
      "  [     0.      0.      0.      0.]]\n",
      "\n",
      " [[     0.      0. 359688.      0.]\n",
      "  [331602.      0.      0.      0.]\n",
      "  [     0.      0.      0. 389884.]\n",
      "  ...\n",
      "  [     0.      0.      0.      0.]\n",
      "  [     0.      0.      0.      0.]\n",
      "  [     0.      0.      0.      0.]]\n",
      "\n",
      " [[     0.      0.      0.      0.]\n",
      "  [     0.      0. 307951.      0.]\n",
      "  [271848.      0.      0.      0.]\n",
      "  ...\n",
      "  [     0.      0.      0.      0.]\n",
      "  [     0.      0.      0.      0.]\n",
      "  [     0.      0.      0.      0.]]\n",
      "\n",
      " ...\n",
      "\n",
      " [[     0.      0.      0.      0.]\n",
      "  [     0.      0.      0.      0.]\n",
      "  [     0.      0.      0.      0.]\n",
      "  ...\n",
      "  [     0.      0.      0.      0.]\n",
      "  [     0.      0.      0.      0.]\n",
      "  [     0.      0.      0.      0.]]\n",
      "\n",
      " [[249261. 250186.  62699.  62886.]\n",
      "  [     0.      0.      0.      0.]\n",
      "  [     0.      0.      0.      0.]\n",
      "  ...\n",
      "  [     0.      0.      0.      0.]\n",
      "  [     0.      0.      0.      0.]\n",
      "  [     0.      0.      0.      0.]]\n",
      "\n",
      " [[     0.      0.      0.      0.]\n",
      "  [     0.      0.      0.      0.]\n",
      "  [     0.      0.      0.      0.]\n",
      "  ...\n",
      "  [     0.      0.      0.      0.]\n",
      "  [187943. 187135. 124898. 125056.]\n",
      "  [     0.      0.      0.      0.]]]\n"
     ]
    }
   ],
   "source": [
    "visit_count = np.zeros((num_states,num_states,num_actions))\n",
    "for traj in histories:\n",
    "    reward_sum = traj[\"Rt\"].sum()\n",
    "    if(reward_sum == 1):\n",
    "        continue\n",
    "    cur_states = traj[\"St\"][:-1]\n",
    "    next_states = traj[\"St\"][1:]\n",
    "    actions = traj[\"At\"][:-1]\n",
    "    visit_count[cur_states, next_states, actions] += 1\n",
    "    \n",
    "print(visit_count)\n",
    "    "
   ]
  },
  {
   "cell_type": "code",
   "execution_count": 6,
   "metadata": {},
   "outputs": [
    {
     "name": "stdout",
     "output_type": "stream",
     "text": [
      "---state 0---\n",
      "0 [405669.      0. 406398.      0.]\n",
      "1 [     0.      0.      0. 491914.]\n",
      "4 [     0. 492558.      0.      0.]\n",
      "------------------\n",
      "---state 1---\n",
      "0 [     0.      0. 359688.      0.]\n",
      "1 [331602.      0.      0.      0.]\n",
      "2 [     0.      0.      0. 389884.]\n",
      "5 [     0. 395066.      0.      0.]\n",
      "------------------\n",
      "---state 2---\n",
      "1 [     0.      0. 307951.      0.]\n",
      "2 [271848.      0.      0.      0.]\n",
      "3 [     0.      0.      0. 306340.]\n",
      "6 [     0. 331739.      0.      0.]\n",
      "------------------\n",
      "---state 3---\n",
      "2 [     0.      0. 265441.      0.]\n",
      "3 [221831.      0.      0. 221988.]\n",
      "7 [     0. 283697.      0.      0.]\n",
      "------------------\n",
      "---state 4---\n",
      "0 [359261.      0.      0.      0.]\n",
      "4 [     0.      0. 331765.      0.]\n",
      "5 [     0.      0.      0. 395990.]\n",
      "8 [     0. 390014.      0.      0.]\n",
      "------------------\n",
      "---state 5---\n",
      "1 [333333.      0.      0.      0.]\n",
      "4 [     0.      0. 332599.      0.]\n",
      "6 [     0.      0.      0. 367305.]\n",
      "9 [     0. 367315.      0.      0.]\n",
      "------------------\n",
      "---state 6---\n",
      "2 [287494.      0.      0.      0.]\n",
      "5 [     0.      0. 297874.      0.]\n",
      "7 [     0.      0.      0. 310288.]\n",
      "10 [     0. 335647.      0.      0.]\n",
      "------------------\n",
      "---state 7---\n",
      "3 [240417.      0.      0.      0.]\n",
      "6 [     0.      0. 261380.      0.]\n",
      "7 [     0.      0.      0. 225876.]\n",
      "11 [     0. 306541.      0.      0.]\n",
      "------------------\n",
      "---state 8---\n",
      "4 [308007.      0.      0.      0.]\n",
      "8 [     0.      0. 272675.      0.]\n",
      "9 [     0.      0.      0. 332009.]\n",
      "12 [     0. 306398.      0.      0.]\n",
      "------------------\n",
      "---state 9---\n",
      "5 [299025.      0.      0.      0.]\n",
      "8 [     0.      0. 287777.      0.]\n",
      "10 [     0.      0.      0. 335229.]\n",
      "13 [     0. 309972.      0.      0.]\n",
      "------------------\n",
      "---state 10---\n",
      "6 [258437.      0.      0.      0.]\n",
      "9 [     0.      0. 258032.      0.]\n",
      "11 [     0.      0.      0. 298151.]\n",
      "14 [     0. 297675.      0.      0.]\n",
      "------------------\n",
      "---state 11---\n",
      "7 [194572.      0.      0.      0.]\n",
      "10 [     0.      0. 208519.      0.]\n",
      "11 [     0.      0.      0. 183480.]\n",
      "------------------\n",
      "---state 12---\n",
      "8 [265545.      0.      0.      0.]\n",
      "12 [     0. 221812. 221790.      0.]\n",
      "13 [     0.      0.      0. 284216.]\n",
      "------------------\n",
      "---state 13---\n",
      "9 [262697.      0.      0.      0.]\n",
      "12 [     0.      0. 240249.      0.]\n",
      "13 [     0. 226086.      0.      0.]\n",
      "14 [     0.      0.      0. 306312.]\n",
      "------------------\n",
      "---state 14---\n",
      "10 [208762.      0.      0.      0.]\n",
      "13 [     0.      0. 195317.      0.]\n",
      "14 [     0. 183707.      0.      0.]\n",
      "------------------\n",
      "---state 15---\n",
      "------------------\n",
      "---state 16---\n",
      "0 [249261. 250186.  62699.  62886.]\n",
      "------------------\n",
      "---state 17---\n",
      "16 [187943. 187135. 124898. 125056.]\n",
      "------------------\n",
      "0 0 0,2\n",
      "0 1 3\n",
      "0 4 1\n",
      "1 0 2\n",
      "1 1 0\n",
      "1 2 3\n",
      "1 5 1\n",
      "2 1 2\n",
      "2 2 0\n",
      "2 3 3\n",
      "2 6 1\n",
      "3 2 2\n",
      "3 3 0,3\n",
      "3 7 1\n",
      "4 0 0\n",
      "4 4 2\n",
      "4 5 3\n",
      "4 8 1\n",
      "5 1 0\n",
      "5 4 2\n",
      "5 6 3\n",
      "5 9 1\n",
      "6 2 0\n",
      "6 5 2\n",
      "6 7 3\n",
      "6 10 1\n",
      "7 3 0\n",
      "7 6 2\n",
      "7 7 3\n",
      "7 11 1\n",
      "8 4 0\n",
      "8 8 2\n",
      "8 9 3\n",
      "8 12 1\n",
      "9 5 0\n",
      "9 8 2\n",
      "9 10 3\n",
      "9 13 1\n",
      "10 6 0\n",
      "10 9 2\n",
      "10 11 3\n",
      "10 14 1\n",
      "11 7 0\n",
      "11 10 2\n",
      "11 11 3\n",
      "12 8 0\n",
      "12 12 1,2\n",
      "12 13 3\n",
      "13 9 0\n",
      "13 12 2\n",
      "13 13 1\n",
      "13 14 3\n",
      "14 10 0\n",
      "14 13 2\n",
      "14 14 1\n",
      "16 0 0,1,2,3\n",
      "17 16 0,1,2,3\n",
      "\n"
     ]
    }
   ],
   "source": [
    "result = \"\"\n",
    "for i in range(visit_count.shape[0]):\n",
    "    print(\"---state \" + str(i) + \"---\")\n",
    "    state_transitions = visit_count[i]\n",
    "    possible_transitions = np.where(np.sum(state_transitions,axis=1) > 0)[0]\n",
    "    for ns in possible_transitions:\n",
    "        actions = list(np.where(state_transitions[ns] != 0)[0])\n",
    "        result += str(i) + \" \" + str(ns) + \" \" + \",\".join(str(a) for a in actions) + \"\\n\"  \n",
    "        print(ns, state_transitions[ns])\n",
    "    print(\"------------------\")\n",
    "print(result)"
   ]
  },
  {
   "cell_type": "code",
   "execution_count": 7,
   "metadata": {},
   "outputs": [],
   "source": [
    "test_list = np.zeros((4,4))\n",
    "possible_rewards = {}\n",
    "initial_rewards = {}\n",
    "heatmap = np.zeros((num_actions,num_actions,num_actions, 4,4))\n",
    "for traj in histories:\n",
    "    reward_sum = traj[\"Rt\"].sum()\n",
    "    possible_rewards.setdefault(reward_sum, 0)\n",
    "    possible_rewards[reward_sum] += 1\n",
    "    states = traj[\"St\"][2:]\n",
    "    A_states_17 = traj[\"At\"][0]\n",
    "    A_states_16 = traj[\"At\"][1]\n",
    "    R_states_17 = traj[\"Rt\"][0]\n",
    "    R_states_16 = traj[\"Rt\"][1]\n",
    "    last_reward = traj[\"Rt\"][-1]\n",
    "    \n",
    "    \n",
    "#     if(reward_sum != 2 and (A_states_17 == 2 or A_states_17 == 3) and (A_states_16 == 0 or A_states_16 == 1)):\n",
    "#         print(\"wow\")\n",
    "    \n",
    "#     if(reward_sum != 11):\n",
    "#         continue\n",
    "    test_list[A_states_17, A_states_16] += 1\n",
    "    key = str(R_states_17) + \",\" + str(R_states_16) + \",\" + str(last_reward)\n",
    "    initial_rewards.setdefault(key, 0)\n",
    "    initial_rewards[key] += 1\n",
    "    \n",
    "    actions = traj[\"At\"][2:]\n",
    "    \n",
    "    x_cords = states // 4\n",
    "    y_cords = states % 4\n",
    "    heatmap[A_states_17, A_states_16, actions, x_cords,y_cords] += reward_sum"
   ]
  },
  {
   "cell_type": "code",
   "execution_count": 8,
   "metadata": {},
   "outputs": [
    {
     "data": {
      "text/plain": [
       "array([[93937., 94006., 94316., 93357.],\n",
       "       [93280., 93855., 93829., 93466.],\n",
       "       [31177., 30854., 31481., 31386.],\n",
       "       [30867., 31471., 31218., 31500.]])"
      ]
     },
     "execution_count": 8,
     "metadata": {},
     "output_type": "execute_result"
    }
   ],
   "source": [
    "test_list"
   ]
  },
  {
   "cell_type": "code",
   "execution_count": 9,
   "metadata": {},
   "outputs": [
    {
     "data": {
      "text/plain": [
       "{'1.0,0.0,1.0': 124369,\n",
       " '0.0,0.0,10.0': 375078,\n",
       " '1.0,0.0,10.0': 125585,\n",
       " '0.0,0.0,1.0': 374968}"
      ]
     },
     "execution_count": 9,
     "metadata": {},
     "output_type": "execute_result"
    }
   ],
   "source": [
    "initial_rewards"
   ]
  },
  {
   "cell_type": "code",
   "execution_count": 10,
   "metadata": {},
   "outputs": [
    {
     "data": {
      "text/plain": [
       "{2.0: 124369, 10.0: 375078, 11.0: 125585, 1.0: 374968}"
      ]
     },
     "execution_count": 10,
     "metadata": {},
     "output_type": "execute_result"
    }
   ],
   "source": [
    "possible_rewards"
   ]
  },
  {
   "cell_type": "code",
   "execution_count": 11,
   "metadata": {},
   "outputs": [
    {
     "data": {
      "image/png": "[encoded data removed]",
      "text/plain": [
       "<Figure size 432x288 with 2 Axes>"
      ]
     },
     "metadata": {
      "needs_background": "light"
     },
     "output_type": "display_data"
    }
   ],
   "source": [
    "a_17 = 3\n",
    "a_16 = 1\n",
    "a = 0\n",
    "ax1 = sns.heatmap(heatmap[a_17,a_16,a], linewidth=0.5)\n",
    "plt.show()"
   ]
  },
  {
   "cell_type": "code",
   "execution_count": 18,
   "metadata": {},
   "outputs": [],
   "source": [
    "max_traj = None\n",
    "last_states = {}\n",
    "for traj in histories:\n",
    "    last_states[traj[\"St\"][-1]] = 1\n",
    "    if(max_traj == None or traj[\"return\"] > max_traj[\"return\"]):\n",
    "        max_traj = traj      "
   ]
  },
  {
   "cell_type": "code",
   "execution_count": 19,
   "metadata": {},
   "outputs": [
    {
     "data": {
      "text/plain": [
       "{14: 1, 11: 1}"
      ]
     },
     "execution_count": 19,
     "metadata": {},
     "output_type": "execute_result"
    }
   ],
   "source": [
    "last_states"
   ]
  },
  {
   "cell_type": "code",
   "execution_count": 17,
   "metadata": {},
   "outputs": [
    {
     "name": "stdout",
     "output_type": "stream",
     "text": [
      "[17 16  0  1  2  6 10 11]\n",
      "[3 3 3 3 1 1 3 1]\n",
      "[ 1.  0.  0.  0.  0.  0.  0. 10.]\n",
      "7.983372960937498\n"
     ]
    }
   ],
   "source": [
    "print(max_traj[\"St\"])\n",
    "print(max_traj[\"At\"])\n",
    "print(max_traj[\"Rt\"])\n",
    "print(max_traj[\"return\"])"
   ]
  },
  {
   "cell_type": "code",
   "execution_count": 14,
   "metadata": {},
   "outputs": [
    {
     "name": "stdout",
     "output_type": "stream",
     "text": [
      "Average Baseline Return : 1.172600237817154\n"
     ]
    }
   ],
   "source": [
    "avg_exploratory_J = GetAverageReturn(histories)"
   ]
  },
  {
   "cell_type": "markdown",
   "metadata": {},
   "source": [
    "Notes:\n",
    "- You need to take (2 or 3) from both state 17 and 16 to achieve > 10 total reward.\n",
    "- actions from start (2 or 3) --> (0,1) guarantee 2 total reward"
   ]
  },
  {
   "cell_type": "code",
   "execution_count": null,
   "metadata": {},
   "outputs": [],
   "source": []
  }
 ],
 "metadata": {
  "kernelspec": {
   "display_name": "Python 3",
   "language": "python",
   "name": "python3"
  },
  "language_info": {
   "codemirror_mode": {
    "name": "ipython",
    "version": 3
   },
   "file_extension": ".py",
   "mimetype": "text/x-python",
   "name": "python",
   "nbconvert_exporter": "python",
   "pygments_lexer": "ipython3",
   "version": "3.7.4"
  }
 },
 "nbformat": 4,
 "nbformat_minor": 4
}
