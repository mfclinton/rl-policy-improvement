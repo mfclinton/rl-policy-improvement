{
 "cells": [
  {
   "cell_type": "code",
   "execution_count": 1,
   "metadata": {},
   "outputs": [],
   "source": [
    "import numpy as np\n",
    "from scipy import stats\n",
    "from lib.DataManager import *\n",
    "from lib.PolicyStats import *\n",
    "import seaborn as sns\n",
    "import matplotlib.pyplot as plt"
   ]
  },
  {
   "cell_type": "code",
   "execution_count": 2,
   "metadata": {},
   "outputs": [],
   "source": [
    "num_states = 18\n",
    "num_actions = 4\n",
    "gamma = 0.95"
   ]
  },
  {
   "cell_type": "code",
   "execution_count": 3,
   "metadata": {},
   "outputs": [
    {
     "name": "stdout",
     "output_type": "stream",
     "text": [
      "line 0\n",
      "line 1000000\n",
      "line 2000000\n",
      "line 3000000\n",
      "line 4000000\n",
      "line 5000000\n",
      "line 6000000\n"
     ]
    }
   ],
   "source": [
    "histories = GetHistories(\"data\\\\mockworld_data.csv\", gamma)"
   ]
  },
  {
   "cell_type": "code",
   "execution_count": 4,
   "metadata": {},
   "outputs": [
    {
     "name": "stderr",
     "output_type": "stream",
     "text": [
      "C:\\Users\\mfcli\\Anaconda3\\lib\\site-packages\\ipykernel_launcher.py:10: RuntimeWarning: invalid value encountered in true_divide\n",
      "  # Remove the CWD from sys.path while we load stuff.\n"
     ]
    },
    {
     "name": "stdout",
     "output_type": "stream",
     "text": [
      "[[0.89905819 1.01331004 0.90190327 1.01285793]\n",
      " [0.75883575 0.86321006 0.73786847 0.85360434]\n",
      " [0.66486147 0.78324774 0.63376936 0.73099521]\n",
      " [0.61662801 0.74004659 0.60443026 0.61895621]\n",
      " [0.74034281 0.85858765 0.76523534 0.85585134]\n",
      " [0.68692134 0.84070106 0.68393597 0.84328913]\n",
      " [0.63942088 0.86381725 0.64464655 0.79985234]\n",
      " [0.60630802 0.92016261 0.64461015 0.68854687]\n",
      " [0.64247452 0.73344154 0.66683637 0.78306731]\n",
      " [0.64398397 0.79185935 0.64404977 0.85951201]\n",
      " [0.64227609 0.92167018 0.64166884 0.92562106]\n",
      " [0.64367796 1.17272722 0.70040961 0.82758789]\n",
      " [0.60598543 0.61871873 0.62761144 0.747611  ]\n",
      " [0.64342738 0.68706574 0.60992136 0.91858058]\n",
      " [0.70325612 0.83910792 0.64055345 1.16959959]\n",
      " [       nan        nan        nan        nan]\n",
      " [1.56172558 1.5431968  0.78406449 0.79084486]\n",
      " [0.92914023 0.92295807 1.92310158 1.88794284]]\n"
     ]
    }
   ],
   "source": [
    "avg_returns = np.zeros((num_states,num_actions))\n",
    "visit_count = np.zeros((num_states,num_actions))\n",
    "for traj in histories:\n",
    "    total_return = traj[\"return\"]\n",
    "    states = traj[\"St\"]\n",
    "    actions = traj[\"At\"]\n",
    "    avg_returns[states, actions] += total_return\n",
    "    visit_count[states, actions] += 1\n",
    "    \n",
    "avg_returns /= visit_count\n",
    "print(avg_returns)\n",
    "    \n",
    "    "
   ]
  },
  {
   "cell_type": "code",
   "execution_count": 5,
   "metadata": {},
   "outputs": [
    {
     "name": "stdout",
     "output_type": "stream",
     "text": [
      "0.22593554099256555\n",
      "Average Baseline Return : 1.171164966750352\n"
     ]
    }
   ],
   "source": [
    "print(histories[0][\"return\"])\n",
    "avg_exploratory_J = GetAverageReturn(histories)"
   ]
  },
  {
   "cell_type": "code",
   "execution_count": 6,
   "metadata": {},
   "outputs": [
    {
     "name": "stdout",
     "output_type": "stream",
     "text": [
      "[[[40706.     0. 40670.     0.]\n",
      "  [    0.     0.     0. 49141.]\n",
      "  [    0.     0.     0.     0.]\n",
      "  ...\n",
      "  [    0.     0.     0.     0.]\n",
      "  [    0.     0.     0.     0.]\n",
      "  [    0.     0.     0.     0.]]\n",
      "\n",
      " [[    0.     0. 35913.     0.]\n",
      "  [33142.     0.     0.     0.]\n",
      "  [    0.     0.     0. 38910.]\n",
      "  ...\n",
      "  [    0.     0.     0.     0.]\n",
      "  [    0.     0.     0.     0.]\n",
      "  [    0.     0.     0.     0.]]\n",
      "\n",
      " [[    0.     0.     0.     0.]\n",
      "  [    0.     0. 30676.     0.]\n",
      "  [27107.     0.     0.     0.]\n",
      "  ...\n",
      "  [    0.     0.     0.     0.]\n",
      "  [    0.     0.     0.     0.]\n",
      "  [    0.     0.     0.     0.]]\n",
      "\n",
      " ...\n",
      "\n",
      " [[    0.     0.     0.     0.]\n",
      "  [    0.     0.     0.     0.]\n",
      "  [    0.     0.     0.     0.]\n",
      "  ...\n",
      "  [    0.     0.     0.     0.]\n",
      "  [    0.     0.     0.     0.]\n",
      "  [    0.     0.     0.     0.]]\n",
      "\n",
      " [[25048. 25111.  6188.  6185.]\n",
      "  [    0.     0.     0.     0.]\n",
      "  [    0.     0.     0.     0.]\n",
      "  ...\n",
      "  [    0.     0.     0.     0.]\n",
      "  [    0.     0.     0.     0.]\n",
      "  [    0.     0.     0.     0.]]\n",
      "\n",
      " [[    0.     0.     0.     0.]\n",
      "  [    0.     0.     0.     0.]\n",
      "  [    0.     0.     0.     0.]\n",
      "  ...\n",
      "  [    0.     0.     0.     0.]\n",
      "  [18948. 18565. 12642. 12377.]\n",
      "  [    0.     0.     0.     0.]]]\n"
     ]
    }
   ],
   "source": [
    "visit_count = np.zeros((num_states,num_states,num_actions))\n",
    "for traj in histories:\n",
    "    reward_sum = traj[\"Rt\"].sum()\n",
    "    if(reward_sum == 1):\n",
    "        continue\n",
    "    cur_states = traj[\"St\"][:-1]\n",
    "    next_states = traj[\"St\"][1:]\n",
    "    actions = traj[\"At\"][:-1]\n",
    "    visit_count[cur_states, next_states, actions] += 1\n",
    "    \n",
    "print(visit_count)\n",
    "    "
   ]
  },
  {
   "cell_type": "code",
   "execution_count": 7,
   "metadata": {},
   "outputs": [
    {
     "name": "stdout",
     "output_type": "stream",
     "text": [
      "---state 0---\n",
      "0 [40706.     0. 40670.     0.]\n",
      "1 [    0.     0.     0. 49141.]\n",
      "4 [    0. 49320.     0.     0.]\n",
      "------------------\n",
      "---state 1---\n",
      "0 [    0.     0. 35913.     0.]\n",
      "1 [33142.     0.     0.     0.]\n",
      "2 [    0.     0.     0. 38910.]\n",
      "5 [    0. 39587.     0.     0.]\n",
      "------------------\n",
      "---state 2---\n",
      "1 [    0.     0. 30676.     0.]\n",
      "2 [27107.     0.     0.     0.]\n",
      "3 [    0.     0.     0. 30613.]\n",
      "6 [    0. 33217.     0.     0.]\n",
      "------------------\n",
      "---state 3---\n",
      "2 [    0.     0. 26522.     0.]\n",
      "3 [22223.     0.     0. 22305.]\n",
      "7 [    0. 28384.     0.     0.]\n",
      "------------------\n",
      "---state 4---\n",
      "0 [36110.     0.     0.     0.]\n",
      "4 [    0.     0. 33373.     0.]\n",
      "5 [    0.     0.     0. 39562.]\n",
      "8 [    0. 39111.     0.     0.]\n",
      "------------------\n",
      "---state 5---\n",
      "1 [33340.     0.     0.     0.]\n",
      "4 [    0.     0. 33390.     0.]\n",
      "6 [    0.     0.     0. 36625.]\n",
      "9 [    0. 36772.     0.     0.]\n",
      "------------------\n",
      "---state 6---\n",
      "2 [28714.     0.     0.     0.]\n",
      "5 [    0.     0. 29707.     0.]\n",
      "7 [    0.     0.     0. 31129.]\n",
      "10 [    0. 33529.     0.     0.]\n",
      "------------------\n",
      "---state 7---\n",
      "3 [24049.     0.     0.     0.]\n",
      "6 [    0.     0. 26286.     0.]\n",
      "7 [    0.     0.     0. 22629.]\n",
      "11 [    0. 30703.     0.     0.]\n",
      "------------------\n",
      "---state 8---\n",
      "4 [31011.     0.     0.     0.]\n",
      "8 [    0.     0. 27189.     0.]\n",
      "9 [    0.     0.     0. 33340.]\n",
      "12 [    0. 30725.     0.     0.]\n",
      "------------------\n",
      "---state 9---\n",
      "5 [29951.     0.     0.     0.]\n",
      "8 [    0.     0. 29020.     0.]\n",
      "10 [    0.     0.     0. 33452.]\n",
      "13 [    0. 31089.     0.     0.]\n",
      "------------------\n",
      "---state 10---\n",
      "6 [25631.     0.     0.     0.]\n",
      "9 [    0.     0. 25881.     0.]\n",
      "11 [    0.     0.     0. 29688.]\n",
      "14 [    0. 29601.     0.     0.]\n",
      "------------------\n",
      "---state 11---\n",
      "7 [19591.     0.     0.     0.]\n",
      "10 [    0.     0. 20854.     0.]\n",
      "11 [    0.     0.     0. 18321.]\n",
      "------------------\n",
      "---state 12---\n",
      "8 [26561.     0.     0.     0.]\n",
      "12 [    0. 22179. 22334.     0.]\n",
      "13 [    0.     0.     0. 28418.]\n",
      "------------------\n",
      "---state 13---\n",
      "9 [26198.     0.     0.     0.]\n",
      "12 [    0.     0. 23978.     0.]\n",
      "13 [    0. 22678.     0.     0.]\n",
      "14 [    0.     0.     0. 30773.]\n",
      "------------------\n",
      "---state 14---\n",
      "10 [20961.     0.     0.     0.]\n",
      "13 [    0.     0. 19319.     0.]\n",
      "14 [    0. 18370.     0.     0.]\n",
      "------------------\n",
      "---state 15---\n",
      "------------------\n",
      "---state 16---\n",
      "0 [25048. 25111.  6188.  6185.]\n",
      "------------------\n",
      "---state 17---\n",
      "16 [18948. 18565. 12642. 12377.]\n",
      "------------------\n",
      "0 0 0,2\n",
      "0 1 3\n",
      "0 4 1\n",
      "1 0 2\n",
      "1 1 0\n",
      "1 2 3\n",
      "1 5 1\n",
      "2 1 2\n",
      "2 2 0\n",
      "2 3 3\n",
      "2 6 1\n",
      "3 2 2\n",
      "3 3 0,3\n",
      "3 7 1\n",
      "4 0 0\n",
      "4 4 2\n",
      "4 5 3\n",
      "4 8 1\n",
      "5 1 0\n",
      "5 4 2\n",
      "5 6 3\n",
      "5 9 1\n",
      "6 2 0\n",
      "6 5 2\n",
      "6 7 3\n",
      "6 10 1\n",
      "7 3 0\n",
      "7 6 2\n",
      "7 7 3\n",
      "7 11 1\n",
      "8 4 0\n",
      "8 8 2\n",
      "8 9 3\n",
      "8 12 1\n",
      "9 5 0\n",
      "9 8 2\n",
      "9 10 3\n",
      "9 13 1\n",
      "10 6 0\n",
      "10 9 2\n",
      "10 11 3\n",
      "10 14 1\n",
      "11 7 0\n",
      "11 10 2\n",
      "11 11 3\n",
      "12 8 0\n",
      "12 12 1,2\n",
      "12 13 3\n",
      "13 9 0\n",
      "13 12 2\n",
      "13 13 1\n",
      "13 14 3\n",
      "14 10 0\n",
      "14 13 2\n",
      "14 14 1\n",
      "16 0 0,1,2,3\n",
      "17 16 0,1,2,3\n",
      "\n"
     ]
    }
   ],
   "source": [
    "result = \"\"\n",
    "for i in range(visit_count.shape[0]):\n",
    "    print(\"---state \" + str(i) + \"---\")\n",
    "    state_transitions = visit_count[i]\n",
    "    possible_transitions = np.where(np.sum(state_transitions,axis=1) > 0)[0]\n",
    "    for ns in possible_transitions:\n",
    "        actions = list(np.where(state_transitions[ns] != 0)[0])\n",
    "        result += str(i) + \" \" + str(ns) + \" \" + \",\".join(str(a) for a in actions) + \"\\n\"  \n",
    "        print(ns, state_transitions[ns])\n",
    "    print(\"------------------\")\n",
    "print(result)"
   ]
  },
  {
   "cell_type": "code",
   "execution_count": 8,
   "metadata": {},
   "outputs": [],
   "source": [
    "test_list = np.zeros((4,4))\n",
    "possible_rewards = {}\n",
    "initial_rewards = {}\n",
    "heatmap = np.zeros((num_actions,num_actions,num_actions, 4,4))\n",
    "for traj in histories:\n",
    "    reward_sum = traj[\"Rt\"].sum()\n",
    "    possible_rewards.setdefault(reward_sum, 0)\n",
    "    possible_rewards[reward_sum] += 1\n",
    "    states = traj[\"St\"][2:]\n",
    "    A_states_17 = traj[\"At\"][0]\n",
    "    A_states_16 = traj[\"At\"][1]\n",
    "    R_states_17 = traj[\"Rt\"][0]\n",
    "    R_states_16 = traj[\"Rt\"][1]\n",
    "    last_reward = traj[\"Rt\"][-1]\n",
    "    \n",
    "    \n",
    "#     if(reward_sum != 2 and (A_states_17 == 2 or A_states_17 == 3) and (A_states_16 == 0 or A_states_16 == 1)):\n",
    "#         print(\"wow\")\n",
    "    \n",
    "#     if(reward_sum != 11):\n",
    "#         continue\n",
    "    test_list[A_states_17, A_states_16] += 1\n",
    "    key = str(R_states_17) + \",\" + str(R_states_16) + \",\" + str(last_reward)\n",
    "    initial_rewards.setdefault(key, 0)\n",
    "    initial_rewards[key] += 1\n",
    "    \n",
    "    actions = traj[\"At\"][2:]\n",
    "    \n",
    "    x_cords = states // 4\n",
    "    y_cords = states % 4\n",
    "    heatmap[A_states_17, A_states_16, actions, x_cords,y_cords] += reward_sum"
   ]
  },
  {
   "cell_type": "code",
   "execution_count": 9,
   "metadata": {},
   "outputs": [
    {
     "data": {
      "text/plain": [
       "array([[9481., 9467., 9526., 9257.],\n",
       "       [9247., 9318., 9258., 9427.],\n",
       "       [3188., 3155., 3125., 3174.],\n",
       "       [3132., 3171., 3063., 3011.]])"
      ]
     },
     "execution_count": 9,
     "metadata": {},
     "output_type": "execute_result"
    }
   ],
   "source": [
    "test_list"
   ]
  },
  {
   "cell_type": "code",
   "execution_count": 10,
   "metadata": {},
   "outputs": [
    {
     "data": {
      "text/plain": [
       "{'0.0,0.0,1.0': 37468,\n",
       " '0.0,0.0,10.0': 37513,\n",
       " '1.0,0.0,10.0': 12373,\n",
       " '1.0,0.0,1.0': 12646}"
      ]
     },
     "execution_count": 10,
     "metadata": {},
     "output_type": "execute_result"
    }
   ],
   "source": [
    "initial_rewards"
   ]
  },
  {
   "cell_type": "code",
   "execution_count": 11,
   "metadata": {},
   "outputs": [
    {
     "data": {
      "text/plain": [
       "{1.0: 37468, 10.0: 37513, 11.0: 12373, 2.0: 12646}"
      ]
     },
     "execution_count": 11,
     "metadata": {},
     "output_type": "execute_result"
    }
   ],
   "source": [
    "possible_rewards"
   ]
  },
  {
   "cell_type": "code",
   "execution_count": 12,
   "metadata": {},
   "outputs": [
    {
     "data": {
      "image/png": "[encoded data removed]",
      "text/plain": [
       "<Figure size 432x288 with 2 Axes>"
      ]
     },
     "metadata": {
      "needs_background": "light"
     },
     "output_type": "display_data"
    }
   ],
   "source": [
    "a_17 = 3\n",
    "a_16 = 1\n",
    "a = 0\n",
    "ax1 = sns.heatmap(heatmap[a_17,a_16,a], linewidth=0.5)\n",
    "plt.show()"
   ]
  },
  {
   "cell_type": "code",
   "execution_count": 13,
   "metadata": {},
   "outputs": [],
   "source": [
    "max_traj = None\n",
    "last_states = {}\n",
    "for traj in histories:\n",
    "    last_states[traj[\"St\"][-1]] = 1\n",
    "    if(max_traj == None or traj[\"return\"] > max_traj[\"return\"]):\n",
    "        max_traj = traj      "
   ]
  },
  {
   "cell_type": "code",
   "execution_count": 14,
   "metadata": {},
   "outputs": [
    {
     "data": {
      "text/plain": [
       "{11: 1, 14: 1}"
      ]
     },
     "execution_count": 14,
     "metadata": {},
     "output_type": "execute_result"
    }
   ],
   "source": [
    "last_states"
   ]
  },
  {
   "cell_type": "code",
   "execution_count": 15,
   "metadata": {},
   "outputs": [
    {
     "name": "stdout",
     "output_type": "stream",
     "text": [
      "[17 16  0  4  5  9 13 14]\n",
      "[3 3 1 3 1 1 3 3]\n",
      "[ 1.  0.  0.  0.  0.  0.  0. 10.]\n",
      "7.983372960937498\n"
     ]
    }
   ],
   "source": [
    "print(max_traj[\"St\"])\n",
    "print(max_traj[\"At\"])\n",
    "print(max_traj[\"Rt\"])\n",
    "print(max_traj[\"return\"])"
   ]
  },
  {
   "cell_type": "code",
   "execution_count": 16,
   "metadata": {},
   "outputs": [
    {
     "name": "stdout",
     "output_type": "stream",
     "text": [
      "Average Baseline Return : 1.171164966750352\n"
     ]
    }
   ],
   "source": [
    "avg_exploratory_J = GetAverageReturn(histories)"
   ]
  },
  {
   "cell_type": "markdown",
   "metadata": {},
   "source": [
    "Notes:\n",
    "- You need to take (2 or 3) from both state 17 and 16 to achieve > 10 total reward.\n",
    "- actions from start (2 or 3) --> (0,1) guarantee 2 total reward"
   ]
  },
  {
   "cell_type": "code",
   "execution_count": null,
   "metadata": {},
   "outputs": [],
   "source": []
  }
 ],
 "metadata": {
  "kernelspec": {
   "display_name": "Python 3",
   "language": "python",
   "name": "python3"
  },
  "language_info": {
   "codemirror_mode": {
    "name": "ipython",
    "version": 3
   },
   "file_extension": ".py",
   "mimetype": "text/x-python",
   "name": "python",
   "nbconvert_exporter": "python",
   "pygments_lexer": "ipython3",
   "version": "3.7.4"
  }
 },
 "nbformat": 4,
 "nbformat_minor": 4
}
