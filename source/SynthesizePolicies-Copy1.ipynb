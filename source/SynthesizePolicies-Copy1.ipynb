{
 "cells": [
  {
   "cell_type": "code",
   "execution_count": 1,
   "metadata": {},
   "outputs": [],
   "source": [
    "%load_ext autoreload\n",
    "%autoreload 2"
   ]
  },
  {
   "cell_type": "code",
   "execution_count": 2,
   "metadata": {},
   "outputs": [],
   "source": [
    "import numpy as np\n",
    "from scipy import stats\n",
    "from lib.DataManager import *\n",
    "from lib.PolicyStats import *\n",
    "from lib.Gridworld import *\n",
    "from lib.Mockworld import *\n",
    "import os\n",
    "import cma\n",
    "from cma.constraints_handler import AugmentedLagrangian, PopulationEvaluator\n",
    "from IPython import display\n",
    "import pickle\n",
    "import random"
   ]
  },
  {
   "cell_type": "markdown",
   "metadata": {},
   "source": [
    "***Set Params***"
   ]
  },
  {
   "cell_type": "code",
   "execution_count": 3,
   "metadata": {},
   "outputs": [],
   "source": [
    "#---SET PARAMS---\n",
    "USE_GRIDWORLD = False\n",
    "USE_PDIS = True\n",
    "USE_BOTH_PDIS_AND_IS = False # If True, we take policies that pass both tests\n",
    "percent_increase = 0.1\n",
    "num_policies = 20\n",
    "es_path = \"pickles/pdis_0.pkl\"\n",
    "gamma = 0.95\n",
    "delta = 0.01 #1 - delta, confidence\n",
    "random_seed = 877496444 #NOTE, this seed is for numpy operations. Since we load in CMA-ES from file its seed and state are embedded in the save and constant\n",
    "sub_dir = \"pdis_0\\\\\"\n",
    "title_offset = 61 # 1, 11, 21, so on\n",
    "\n",
    "# seeds 508 (is_1.pkl), 1337 (is_0.pkl), 88885555 (pdis_1.pkl), 877496444 (pdis_0.pkl), 3125832 (pdis_2.pkl)\n",
    "np.random.seed(random_seed) #this is to recreate the same policies"
   ]
  },
  {
   "cell_type": "markdown",
   "metadata": {},
   "source": [
    "***Setup Environment***"
   ]
  },
  {
   "cell_type": "code",
   "execution_count": 4,
   "metadata": {},
   "outputs": [],
   "source": [
    "num_states = 18\n",
    "if(USE_GRIDWORLD):\n",
    "    print(\"Using Gridworld\")\n",
    "    num_states = 23\n",
    "num_actions = 4"
   ]
  },
  {
   "cell_type": "code",
   "execution_count": 5,
   "metadata": {},
   "outputs": [
    {
     "name": "stdout",
     "output_type": "stream",
     "text": [
      "line 0\n",
      "line 1000000\n",
      "line 2000000\n",
      "line 3000000\n",
      "line 4000000\n",
      "line 5000000\n",
      "line 6000000\n",
      "line 7000000\n",
      "line 8000000\n",
      "line 9000000\n",
      "line 10000000\n",
      "line 11000000\n",
      "line 12000000\n",
      "line 13000000\n",
      "line 14000000\n",
      "line 15000000\n",
      "line 16000000\n",
      "line 17000000\n",
      "line 18000000\n",
      "line 19000000\n",
      "line 20000000\n",
      "line 21000000\n",
      "line 22000000\n",
      "line 23000000\n",
      "line 24000000\n",
      "line 25000000\n",
      "line 26000000\n",
      "line 27000000\n",
      "line 28000000\n",
      "line 29000000\n",
      "line 30000000\n",
      "line 31000000\n",
      "line 32000000\n",
      "line 33000000\n",
      "line 34000000\n",
      "line 35000000\n",
      "line 36000000\n",
      "line 37000000\n",
      "line 38000000\n",
      "line 39000000\n",
      "line 40000000\n",
      "line 41000000\n",
      "line 42000000\n",
      "line 43000000\n",
      "line 44000000\n",
      "line 45000000\n",
      "line 46000000\n",
      "line 47000000\n",
      "line 48000000\n",
      "line 49000000\n",
      "line 50000000\n",
      "line 51000000\n",
      "line 52000000\n",
      "line 53000000\n",
      "line 54000000\n",
      "line 55000000\n",
      "line 56000000\n",
      "line 57000000\n",
      "line 58000000\n",
      "line 59000000\n",
      "line 60000000\n",
      "line 61000000\n",
      "line 62000000\n"
     ]
    }
   ],
   "source": [
    "path = \"data\\data.csv\"\n",
    "if(USE_GRIDWORLD):\n",
    "    path = \"data\\gridworld_data.csv\"\n",
    "\n",
    "histories = GetHistories(path, gamma)\n",
    "# random.shuffle(histories)"
   ]
  },
  {
   "cell_type": "code",
   "execution_count": 6,
   "metadata": {},
   "outputs": [
    {
     "name": "stdout",
     "output_type": "stream",
     "text": [
      "800000\n",
      "200000\n"
     ]
    }
   ],
   "source": [
    "train, test = SplitData(histories)"
   ]
  },
  {
   "cell_type": "code",
   "execution_count": 7,
   "metadata": {},
   "outputs": [
    {
     "name": "stdout",
     "output_type": "stream",
     "text": [
      "Average Baseline Return : 1.172600237817154\n"
     ]
    }
   ],
   "source": [
    "avg_exploratory_J = GetAverageReturn(histories)"
   ]
  },
  {
   "cell_type": "code",
   "execution_count": 8,
   "metadata": {},
   "outputs": [
    {
     "name": "stdout",
     "output_type": "stream",
     "text": [
      "Target Performance : 1.556907\n"
     ]
    }
   ],
   "source": [
    "target_performance = GetTargetPerformance(USE_GRIDWORLD, avg_exploratory_J, percent_increase)"
   ]
  },
  {
   "cell_type": "code",
   "execution_count": 9,
   "metadata": {},
   "outputs": [
    {
     "name": "stdout",
     "output_type": "stream",
     "text": [
      "[[0.25  0.25  0.25  0.25 ]\n",
      " [0.25  0.25  0.25  0.25 ]\n",
      " [0.25  0.25  0.25  0.25 ]\n",
      " [0.25  0.25  0.25  0.25 ]\n",
      " [0.25  0.25  0.25  0.25 ]\n",
      " [0.25  0.25  0.25  0.25 ]\n",
      " [0.25  0.25  0.25  0.25 ]\n",
      " [0.25  0.25  0.25  0.25 ]\n",
      " [0.25  0.25  0.25  0.25 ]\n",
      " [0.25  0.25  0.25  0.25 ]\n",
      " [0.25  0.25  0.25  0.25 ]\n",
      " [0.25  0.25  0.25  0.25 ]\n",
      " [0.25  0.25  0.25  0.25 ]\n",
      " [0.25  0.25  0.25  0.25 ]\n",
      " [0.25  0.25  0.25  0.25 ]\n",
      " [0.    0.    0.    0.   ]\n",
      " [0.25  0.25  0.25  0.25 ]\n",
      " [0.375 0.375 0.125 0.125]]\n"
     ]
    }
   ],
   "source": [
    "exploration_policy = GetPolicy(train, num_states, num_actions, 1000)\n",
    "print(exploration_policy)"
   ]
  },
  {
   "cell_type": "code",
   "execution_count": 10,
   "metadata": {},
   "outputs": [],
   "source": [
    "ISFunc = ImportanceSampling\n",
    "OtherFunc = PDImportanceSampling\n",
    "if(USE_PDIS):\n",
    "    ISFunc = PDImportanceSampling\n",
    "    OtherFunc = ImportanceSampling"
   ]
  },
  {
   "cell_type": "code",
   "execution_count": 11,
   "metadata": {},
   "outputs": [
    {
     "name": "stdout",
     "output_type": "stream",
     "text": [
      "ES_Convergence : 195.62034246757986\n",
      "595346\n"
     ]
    }
   ],
   "source": [
    "es = pickle.load(open(es_path, \"rb\"))\n",
    "print(\"ES_Convergence : \" + str(sum(es.mean**2)))\n",
    "print(es.opts[\"seed\"])"
   ]
  },
  {
   "cell_type": "code",
   "execution_count": 12,
   "metadata": {},
   "outputs": [],
   "source": [
    "def policy_softmax(policy):\n",
    "    numerators = np.exp(policy)\n",
    "    return (numerators.T / np.sum(numerators, axis=1)).T"
   ]
  },
  {
   "cell_type": "code",
   "execution_count": null,
   "metadata": {},
   "outputs": [
    {
     "name": "stdout",
     "output_type": "stream",
     "text": [
      "~x~~x~~~x~~~~~x~~~~~x~~~x~~~~~x~~~~x~~\n",
      "0\n",
      "Value: 1.556907\n",
      "Predicted Baseline: 0.15721052273159497\n",
      "Safety Baseline: 4.9207815007565365\n",
      "---distance of return from lower bounds ---\n",
      "Looseness Of Prediction : -1.399696477268405\n",
      "Looseness Of Safety : 3.3638745007565367\n",
      "___F A I L___\n",
      "~x~~x~~~x~~~~~x~~~~~x~~~x~~~~~x~~~~x~~\n",
      "0\n",
      "Value: 1.556907\n",
      "Predicted Baseline: 3.3713282720046225\n",
      "Safety Baseline: 6.848367078845024\n",
      "---distance of return from lower bounds ---\n",
      "Looseness Of Prediction : 1.8144212720046224\n",
      "Looseness Of Safety : 5.291460078845025\n",
      "-------------------------------------------\n",
      "TEST RUN 6.9997477829890675\n",
      "True\n",
      "~x~~x~~~x~~~~~x~~~~~x~~~x~~~~~x~~~~x~~\n",
      "1\n",
      "Value: 1.556907\n",
      "Predicted Baseline: 2.192140550656097\n",
      "Safety Baseline: 5.640655663412589\n",
      "---distance of return from lower bounds ---\n",
      "Looseness Of Prediction : 0.6352335506560969\n",
      "Looseness Of Safety : 4.083748663412589\n",
      "-------------------------------------------\n",
      "TEST RUN 7.216595202675599\n",
      "True\n",
      "~x~~x~~~x~~~~~x~~~~~x~~~x~~~~~x~~~~x~~\n",
      "2\n",
      "Value: 1.556907\n",
      "Predicted Baseline: 1.889410434546642\n",
      "Safety Baseline: 4.102106948360351\n",
      "---distance of return from lower bounds ---\n",
      "Looseness Of Prediction : 0.332503434546642\n",
      "Looseness Of Safety : 2.5451999483603513\n",
      "-------------------------------------------\n",
      "TEST RUN 7.445308669699448\n",
      "True\n",
      "~x~~x~~~x~~~~~x~~~~~x~~~x~~~~~x~~~~x~~\n",
      "3\n",
      "Value: 1.556907\n",
      "Predicted Baseline: 2.1424183374329493\n",
      "Safety Baseline: 5.283087837507304\n",
      "---distance of return from lower bounds ---\n",
      "Looseness Of Prediction : 0.5855113374329493\n",
      "Looseness Of Safety : 3.726180837507304\n",
      "-------------------------------------------\n",
      "TEST RUN 6.956003946346005\n",
      "True\n",
      "~x~~x~~~x~~~~~x~~~~~x~~~x~~~~~x~~~~x~~\n",
      "4\n",
      "Value: 1.556907\n",
      "Predicted Baseline: 2.8623694265526503\n",
      "Safety Baseline: 6.322430818477985\n",
      "---distance of return from lower bounds ---\n",
      "Looseness Of Prediction : 1.3054624265526502\n",
      "Looseness Of Safety : 4.765523818477985\n",
      "-------------------------------------------\n",
      "TEST RUN 7.251312834283918\n",
      "True\n",
      "~x~~x~~~x~~~~~x~~~~~x~~~x~~~~~x~~~~x~~\n",
      "5\n",
      "Value: 1.556907\n",
      "Predicted Baseline: 1.8406543922184637\n",
      "Safety Baseline: 5.7333385363868175\n",
      "---distance of return from lower bounds ---\n",
      "Looseness Of Prediction : 0.2837473922184637\n",
      "Looseness Of Safety : 4.176431536386818\n",
      "-------------------------------------------\n",
      "TEST RUN 7.2709762716882835\n",
      "True\n",
      "~x~~x~~~x~~~~~x~~~~~x~~~x~~~~~x~~~~x~~\n",
      "6\n",
      "Value: 1.556907\n",
      "Predicted Baseline: 1.0506182493244838\n",
      "Safety Baseline: 5.51783237447926\n",
      "---distance of return from lower bounds ---\n",
      "Looseness Of Prediction : -0.5062887506755163\n",
      "Looseness Of Safety : 3.9609253744792605\n",
      "___F A I L___\n",
      "~x~~x~~~x~~~~~x~~~~~x~~~x~~~~~x~~~~x~~\n",
      "6\n",
      "Value: 1.556907\n",
      "Predicted Baseline: 2.7354138402923303\n",
      "Safety Baseline: 5.281232678857696\n",
      "---distance of return from lower bounds ---\n",
      "Looseness Of Prediction : 1.1785068402923302\n",
      "Looseness Of Safety : 3.7243256788576966\n",
      "-------------------------------------------\n",
      "TEST RUN 7.424361573308538\n",
      "True\n",
      "~x~~x~~~x~~~~~x~~~~~x~~~x~~~~~x~~~~x~~\n",
      "7\n",
      "Value: 1.556907\n",
      "Predicted Baseline: 3.382263323081439\n",
      "Safety Baseline: 5.3709941212595345\n",
      "---distance of return from lower bounds ---\n",
      "Looseness Of Prediction : 1.825356323081439\n",
      "Looseness Of Safety : 3.8140871212595346\n",
      "-------------------------------------------\n",
      "TEST RUN 6.800040657801956\n",
      "True\n",
      "~x~~x~~~x~~~~~x~~~~~x~~~x~~~~~x~~~~x~~\n",
      "8\n",
      "Value: 1.556907\n",
      "Predicted Baseline: 2.3685117029923273\n",
      "Safety Baseline: 5.263902997721344\n",
      "---distance of return from lower bounds ---\n",
      "Looseness Of Prediction : 0.8116047029923272\n",
      "Looseness Of Safety : 3.706995997721344\n",
      "-------------------------------------------\n",
      "TEST RUN 7.350452780342208\n",
      "True\n",
      "~x~~x~~~x~~~~~x~~~~~x~~~x~~~~~x~~~~x~~\n",
      "9\n",
      "Value: 1.556907\n",
      "Predicted Baseline: 3.322988522977173\n",
      "Safety Baseline: 5.9740632111711465\n",
      "---distance of return from lower bounds ---\n",
      "Looseness Of Prediction : 1.7660815229771731\n",
      "Looseness Of Safety : 4.417156211171147\n",
      "-------------------------------------------\n",
      "TEST RUN 7.109386383017507\n",
      "True\n",
      "~x~~x~~~x~~~~~x~~~~~x~~~x~~~~~x~~~~x~~\n",
      "10\n",
      "Value: 1.556907\n",
      "Predicted Baseline: 3.4411620137608665\n",
      "Safety Baseline: 5.750186635343675\n",
      "---distance of return from lower bounds ---\n",
      "Looseness Of Prediction : 1.8842550137608665\n",
      "Looseness Of Safety : 4.193279635343675\n",
      "-------------------------------------------\n",
      "TEST RUN 6.724834299585953\n",
      "True\n",
      "~x~~x~~~x~~~~~x~~~~~x~~~x~~~~~x~~~~x~~\n",
      "11\n",
      "Value: 1.556907\n",
      "Predicted Baseline: 3.94544550267122\n",
      "Safety Baseline: 5.810644469727668\n",
      "---distance of return from lower bounds ---\n",
      "Looseness Of Prediction : 2.38853850267122\n",
      "Looseness Of Safety : 4.253737469727668\n",
      "-------------------------------------------\n",
      "TEST RUN 6.669671255844394\n",
      "True\n",
      "~x~~x~~~x~~~~~x~~~~~x~~~x~~~~~x~~~~x~~\n",
      "12\n",
      "Value: 1.556907\n",
      "Predicted Baseline: 2.5740306166856524\n",
      "Safety Baseline: 5.372052006137572\n",
      "---distance of return from lower bounds ---\n",
      "Looseness Of Prediction : 1.0171236166856523\n",
      "Looseness Of Safety : 3.8151450061375725\n",
      "-------------------------------------------\n",
      "TEST RUN 7.100922147108076\n",
      "True\n",
      "~x~~x~~~x~~~~~x~~~~~x~~~x~~~~~x~~~~x~~\n",
      "13\n",
      "Value: 1.556907\n",
      "Predicted Baseline: 0.8955792448059299\n",
      "Safety Baseline: 4.960376580316972\n",
      "---distance of return from lower bounds ---\n",
      "Looseness Of Prediction : -0.6613277551940702\n",
      "Looseness Of Safety : 3.4034695803169726\n",
      "___F A I L___\n",
      "~x~~x~~~x~~~~~x~~~~~x~~~x~~~~~x~~~~x~~\n",
      "13\n"
     ]
    }
   ],
   "source": [
    "avg_returns = 0\n",
    "new_policy = None\n",
    "theoretical_fails = 0\n",
    "actual_fails = 0\n",
    "i = 0\n",
    "while i < num_policies:\n",
    "    passed_theoretical = False\n",
    "    try:\n",
    "        print(\"~x~~x~~~x~~~~~x~~~~~x~~~x~~~~~x~~~~x~~\")\n",
    "        print(i)\n",
    "        solution = es.ask(1)[0].reshape(num_states, num_actions)\n",
    "        solution[15,:] = 1\n",
    "        new_policy = policy_softmax(solution)\n",
    "        ConfirmBounds(False, target_performance, train, test, exploration_policy, gamma, new_policy, ISFunc, delta)\n",
    "        if (USE_BOTH_PDIS_AND_IS):\n",
    "            ConfirmBounds(False, target_performance, train, test, exploration_policy, gamma, new_policy, OtherFunc, delta)\n",
    "        passed_theoretical = True\n",
    "        #policy passes theoretic check\n",
    "\n",
    "        actual_J = -1\n",
    "        if(USE_GRIDWORLD):\n",
    "            actual_J = GetGridworldReturn(new_policy, gamma, 100000)\n",
    "        else:\n",
    "            actual_J = GetMockworldReturn(new_policy, gamma, 100000)\n",
    "\n",
    "        print(\"TEST RUN \" + str(actual_J))\n",
    "        print(actual_J > target_performance)\n",
    "#         ConfirmBounds(True, actual_J, train, test, exploration_policy, gamma, new_policy, ISFunc, delta)\n",
    "#         if (USE_BOTH_PDIS_AND_IS):\n",
    "#             ConfirmBounds(True, actual_J, train, test, exploration_policy, gamma, new_policy, OtherFunc, delta)\n",
    "        #policy passes actual check\n",
    "        path = \"text_policies\\\\\" + sub_dir + \"policy\" + str(i + title_offset) + \".txt\"\n",
    "        WriteSolutionToTxt(path, solution)\n",
    "        loaded_solution = LoadSolutionFromTxt(path, num_states, num_actions)\n",
    "        assert np.sum(loaded_solution - solution) == 0\n",
    "        \n",
    "        avg_returns += actual_J\n",
    "        i += 1\n",
    "    except:\n",
    "        print(\"___F A I L___\")\n",
    "        if(passed_theoretical):\n",
    "            actual_fails += 1\n",
    "        else:\n",
    "            theoretical_fails += 1\n",
    "\n",
    "avg_returns /= num_policies\n",
    "print(\"Number of Actual Fails : \" + str(actual_fails))\n",
    "print(\"Number of Theoretical Fails : \" + str(theoretical_fails))\n",
    "print(\"Average Return : \" + str(avg_returns))\n",
    "print(\"Target : \" + str(target_performance))\n",
    "print(\"Confidence : \" + str(delta))"
   ]
  },
  {
   "cell_type": "code",
   "execution_count": null,
   "metadata": {},
   "outputs": [],
   "source": [
    "greed_policy = np.argmax(new_policy,axis=1)\n",
    "\n",
    "if(USE_GRIDWORLD):\n",
    "    print(np.insert(greed_policy, [12,16],[-1,-1]).reshape((5,5)))\n",
    "else:\n",
    "    print(greed_policy[-2:])\n",
    "    print(greed_policy[:-2].reshape(4,4))"
   ]
  },
  {
   "cell_type": "code",
   "execution_count": null,
   "metadata": {},
   "outputs": [],
   "source": []
  }
 ],
 "metadata": {
  "kernelspec": {
   "display_name": "Python 3",
   "language": "python",
   "name": "python3"
  },
  "language_info": {
   "codemirror_mode": {
    "name": "ipython",
    "version": 3
   },
   "file_extension": ".py",
   "mimetype": "text/x-python",
   "name": "python",
   "nbconvert_exporter": "python",
   "pygments_lexer": "ipython3",
   "version": "3.7.4"
  }
 },
 "nbformat": 4,
 "nbformat_minor": 4
}
