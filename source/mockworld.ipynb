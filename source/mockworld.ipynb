{
 "cells": [
  {
   "cell_type": "code",
   "execution_count": 1,
   "metadata": {},
   "outputs": [],
   "source": [
    "import numpy as np\n",
    "from lib.Mockworld import *"
   ]
  },
  {
   "cell_type": "code",
   "execution_count": 2,
   "metadata": {},
   "outputs": [],
   "source": [
    "%load_ext autoreload\n",
    "%autoreload 2"
   ]
  },
  {
   "cell_type": "markdown",
   "metadata": {},
   "source": [
    "***Example of how to run Mockworld***"
   ]
  },
  {
   "cell_type": "code",
   "execution_count": 3,
   "metadata": {},
   "outputs": [],
   "source": [
    "policy = np.load(\"exploration_policy.npy\")\n",
    "# policy = np.load(\"policies\\\\gw\\\\delta_0.01\\\\safety_0.6097323533319994.npy\")"
   ]
  },
  {
   "cell_type": "code",
   "execution_count": 4,
   "metadata": {},
   "outputs": [
    {
     "data": {
      "text/plain": [
       "array([[0.25 , 0.25 , 0.25 , 0.25 ],\n",
       "       [0.25 , 0.25 , 0.25 , 0.25 ],\n",
       "       [0.25 , 0.25 , 0.25 , 0.25 ],\n",
       "       [0.25 , 0.25 , 0.25 , 0.25 ],\n",
       "       [0.25 , 0.25 , 0.25 , 0.25 ],\n",
       "       [0.25 , 0.25 , 0.25 , 0.25 ],\n",
       "       [0.25 , 0.25 , 0.25 , 0.25 ],\n",
       "       [0.25 , 0.25 , 0.25 , 0.25 ],\n",
       "       [0.25 , 0.25 , 0.25 , 0.25 ],\n",
       "       [0.25 , 0.25 , 0.25 , 0.25 ],\n",
       "       [0.25 , 0.25 , 0.25 , 0.25 ],\n",
       "       [0.25 , 0.25 , 0.25 , 0.25 ],\n",
       "       [0.25 , 0.25 , 0.25 , 0.25 ],\n",
       "       [0.25 , 0.25 , 0.25 , 0.25 ],\n",
       "       [0.25 , 0.25 , 0.25 , 0.25 ],\n",
       "       [0.   , 0.   , 0.   , 0.   ],\n",
       "       [0.25 , 0.25 , 0.25 , 0.25 ],\n",
       "       [0.375, 0.375, 0.125, 0.125]])"
      ]
     },
     "execution_count": 4,
     "metadata": {},
     "output_type": "execute_result"
    }
   ],
   "source": [
    "policy"
   ]
  },
  {
   "cell_type": "code",
   "execution_count": 7,
   "metadata": {},
   "outputs": [
    {
     "data": {
      "text/plain": [
       "1.1767569961744624"
      ]
     },
     "execution_count": 7,
     "metadata": {},
     "output_type": "execute_result"
    }
   ],
   "source": [
    "GetMockworldReturn(policy, GAMMA=0.95, num_eps = 500000)"
   ]
  },
  {
   "cell_type": "code",
   "execution_count": 4,
   "metadata": {},
   "outputs": [
    {
     "name": "stdout",
     "output_type": "stream",
     "text": [
      "Episode: 0 / 100000\n",
      "Episode: 10000 / 100000\n",
      "Episode: 20000 / 100000\n",
      "Episode: 30000 / 100000\n",
      "Episode: 40000 / 100000\n",
      "Episode: 50000 / 100000\n",
      "Episode: 60000 / 100000\n",
      "Episode: 70000 / 100000\n",
      "Episode: 80000 / 100000\n",
      "Episode: 90000 / 100000\n"
     ]
    }
   ],
   "source": [
    "output = RunMockworld(policy, GAMMA=1, num_eps = int(100000))\n",
    "with open(\"data\\\\mockworld_data.csv\", \"w\") as f:\n",
    "    f.write(output)"
   ]
  },
  {
   "cell_type": "code",
   "execution_count": null,
   "metadata": {},
   "outputs": [],
   "source": []
  }
 ],
 "metadata": {
  "kernelspec": {
   "display_name": "Python 3",
   "language": "python",
   "name": "python3"
  },
  "language_info": {
   "codemirror_mode": {
    "name": "ipython",
    "version": 3
   },
   "file_extension": ".py",
   "mimetype": "text/x-python",
   "name": "python",
   "nbconvert_exporter": "python",
   "pygments_lexer": "ipython3",
   "version": "3.7.4"
  }
 },
 "nbformat": 4,
 "nbformat_minor": 4
}
