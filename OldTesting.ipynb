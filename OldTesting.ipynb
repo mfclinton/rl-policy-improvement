{
 "cells": [
  {
   "cell_type": "code",
   "execution_count": 1,
   "metadata": {},
   "outputs": [],
   "source": [
    "import numpy as np\n",
    "import torch\n",
    "from scipy import stats\n",
    "\n",
    "# Importance Sampling Methods\n",
    "def ImportanceSampling(histories, cur_policy, gamma, ep_num, new_policy):\n",
    "    traj = histories[ep_num]\n",
    "    is_weight = 1\n",
    "    disc_return = 0\n",
    "    for j in range(traj.shape[0]):\n",
    "        St, At, Rt, _ = traj[j]\n",
    "        St = int(St)\n",
    "        At = int(At)\n",
    "        is_weight *= new_policy[St, At] / cur_policy[St, At]\n",
    "        disc_return += (gamma ** j) * Rt\n",
    "    return is_weight * disc_return\n",
    "\n",
    "def PDImportanceSampling(histories, cur_policy, gamma, ep_num, new_policy):\n",
    "    traj = histories[ep_num]\n",
    "\n",
    "    result = 0\n",
    "    for t in range(traj.shape[0]):\n",
    "        _, _, Rt, _ = traj[t]\n",
    "        is_weight = 1\n",
    "        for j in range(t + 1):\n",
    "            St, At, _, _ = traj[j]\n",
    "            St = int(St)\n",
    "            At = int(At)\n",
    "            is_weight *= new_policy[St, At] / cur_policy[St, At]\n",
    "        result += (gamma ** t) * is_weight * Rt\n",
    "    return result\n",
    "\n",
    "def CalcAvgIS(histories, cur_policy, gamma, new_policy, ISFunc):\n",
    "    total = 0\n",
    "    print(\"Averaging Importance Sampling\")\n",
    "    update_freq = int(0.25 * len(histories))\n",
    "    for ep in range(len(histories)):\n",
    "        if(ep % update_freq == 0):\n",
    "            print(str(ep) + \" / \" + str(len(histories)))\n",
    "        total += ISFunc(histories, cur_policy, gamma, ep, new_policy)\n",
    "    return total / len(histories)\n",
    "\n",
    "def CalcStdDev(histories, cur_policy, gamma, new_policy, ISFunc, avgIS):\n",
    "    total = 0\n",
    "    for ep in range(len(histories)):\n",
    "        total += (ISFunc(histories, cur_policy, gamma, ep, new_policy) - avgIS)**2\n",
    "\n",
    "    return np.sqrt((1 / (len(histories) - 1)) * total)\n",
    "\n",
    "def Safety_Prediction(histories, cur_policy, gamma, new_policy, ISFunc, delta, num_safety, avgIS = None):\n",
    "    t_value = stats.t.ppf(1-delta, num_safety - 1)\n",
    "    if(avgIS == None):\n",
    "        avgIS = CalcAvgIS(histories, cur_policy, gamma, new_policy, ISFunc)\n",
    "    std_dev = CalcStdDev(histories, cur_policy, gamma, new_policy, ISFunc, avgIS)\n",
    "\n",
    "    return avgIS - 2 * (std_dev / np.sqrt(num_safety)) * t_value\n",
    "\n",
    "def Safety_Test(histories, cur_policy, gamma, new_policy, ISFunc, delta):\n",
    "    num_safety = len(histories)\n",
    "    t_value = stats.t.ppf(1-delta, num_safety - 1)\n",
    "    avgIS = CalcAvgIS(histories, cur_policy, gamma, new_policy, ISFunc)\n",
    "    std_dev = CalcStdDev(histories, cur_policy, gamma, new_policy, ISFunc, avgIS)\n",
    "\n",
    "    return avgIS - (std_dev / np.sqrt(num_safety)) * t_value "
   ]
  },
  {
   "cell_type": "code",
   "execution_count": 2,
   "metadata": {},
   "outputs": [],
   "source": [
    "import numpy as np\n",
    "import torch\n",
    "from scipy import stats\n",
    "\n",
    "# Gets histories from the CSV\n",
    "def GetHistories(path):\n",
    "    num_episodes = -1 #not used\n",
    "    histories = []\n",
    "    with open(path) as file:\n",
    "        cur_episode = -1\n",
    "        cur_timestep = -1\n",
    "        for idx, line in enumerate(file):\n",
    "            #not used\n",
    "            if(idx == 0):\n",
    "                num_episodes = int(line)\n",
    "                continue\n",
    "\n",
    "            data = line.split(\",\")\n",
    "            if(len(data) == 1):\n",
    "                num_time_steps = int(line)\n",
    "                cur_episode += 1\n",
    "                cur_timestep = 0\n",
    "\n",
    "                traj = torch.zeros((num_time_steps, 4))\n",
    "                if torch.cuda.is_available():\n",
    "                    traj = traj.cuda()\n",
    "\n",
    "                histories.append(np.zeros((num_time_steps, 4)))\n",
    "                continue\n",
    "\n",
    "            St, At, Rt, pib = data\n",
    "            histories[cur_episode][cur_timestep, 0] = int(St)\n",
    "            histories[cur_episode][cur_timestep, 1] = int(At)\n",
    "            histories[cur_episode][cur_timestep, 2] = float(Rt)\n",
    "            histories[cur_episode][cur_timestep, 3] = float(pib)         \n",
    "            cur_timestep += 1\n",
    "    return histories\n",
    "\n",
    "# Extracts as much policy info as possible from episode\n",
    "def GetPolicyFromEpisode(histories, ep_num, num_states, num_actions):\n",
    "    policy = np.zeros((num_states, num_actions))\n",
    "    traj = histories[ep_num]\n",
    "\n",
    "    for state in range(num_states):\n",
    "        for action in range(num_actions):\n",
    "            valid_idx = np.logical_and(traj[:,0] == state, traj[:,1] == action)\n",
    "            if(not valid_idx.any()):\n",
    "                continue\n",
    "\n",
    "            policy[state, action] = traj[valid_idx][0,3]\n",
    "\n",
    "    return policy\n",
    "\n",
    "# Gets the policy\n",
    "def GetPolicy(histories, num_states, num_actions, num_iterartions):\n",
    "    cur_policy = np.zeros((num_states, num_actions))\n",
    "\n",
    "    # for ep in range(len(histories)):\n",
    "    for ep in range(num_iterartions):\n",
    "        temp_p = GetPolicyFromEpisode(histories, ep, num_states, num_actions)\n",
    "        for state in range(num_states):\n",
    "            for action in range(num_actions):\n",
    "                if((cur_policy[state, action] == 0) and (temp_p[state, action] != 0)):\n",
    "                    cur_policy[state, action] = temp_p[state, action]\n",
    "    return cur_policy"
   ]
  },
  {
   "cell_type": "code",
   "execution_count": null,
   "metadata": {},
   "outputs": [],
   "source": []
  },
  {
   "cell_type": "code",
   "execution_count": 14,
   "metadata": {},
   "outputs": [],
   "source": [
    "#---SET PARAMS---\n",
    "USE_GRIDWORLD = True\n",
    "USE_PDIS = True\n",
    "num_train_intervals = 40\n",
    "percent_increase = 0.1\n",
    "\n",
    "num_states = 18\n",
    "if(USE_GRIDWORLD):\n",
    "    num_states = 23\n",
    "num_actions = 4\n",
    "gamma = 0.95\n",
    "delta = 0.01 #1 - delta, confidence"
   ]
  },
  {
   "cell_type": "code",
   "execution_count": 15,
   "metadata": {},
   "outputs": [],
   "source": [
    "path = \"data\\data.csv\"\n",
    "if(USE_GRIDWORLD):\n",
    "    path = \"data\\gridworld_data.csv\"\n",
    "\n",
    "histories = GetHistories(path)"
   ]
  },
  {
   "cell_type": "code",
   "execution_count": 17,
   "metadata": {},
   "outputs": [
    {
     "name": "stdout",
     "output_type": "stream",
     "text": [
      "80000\n",
      "20000\n"
     ]
    }
   ],
   "source": [
    "split_idx = int(len(histories) * .8)\n",
    "train = histories[:split_idx]\n",
    "test = histories[split_idx:]\n",
    "print(len(train))\n",
    "print(len(test))"
   ]
  },
  {
   "cell_type": "code",
   "execution_count": 18,
   "metadata": {},
   "outputs": [
    {
     "name": "stdout",
     "output_type": "stream",
     "text": [
      "[[0.20763181 0.32261548 0.2320871  0.2376656 ]\n",
      " [0.43754009 0.30769659 0.18706861 0.06769472]\n",
      " [0.1496868  0.07095748 0.60367863 0.17567709]\n",
      " [0.1293479  0.19027268 0.62913662 0.0512428 ]\n",
      " [0.18533418 0.01572689 0.30536101 0.49357793]\n",
      " [0.0960113  0.71620255 0.11046996 0.07731619]\n",
      " [0.00503686 0.97096792 0.01639663 0.00759859]\n",
      " [0.19370951 0.45149438 0.30279422 0.05200189]\n",
      " [0.28703467 0.12633633 0.2157527  0.37087631]\n",
      " [0.2284537  0.24358334 0.19415907 0.33380389]\n",
      " [0.75345447 0.08064593 0.05413773 0.11176187]\n",
      " [0.10877635 0.50308273 0.19032245 0.19781848]\n",
      " [0.26561551 0.21333928 0.2680081  0.25303711]\n",
      " [0.12665282 0.05972497 0.79498376 0.01863844]\n",
      " [0.33565089 0.33904759 0.01103397 0.31426754]\n",
      " [0.957755   0.02293884 0.00478514 0.01452102]\n",
      " [0.05718595 0.18441702 0.32750377 0.43089327]\n",
      " [0.03235585 0.30904219 0.42189042 0.23671155]\n",
      " [0.03575216 0.05057249 0.87646227 0.03721309]\n",
      " [0.5877959  0.02863936 0.09584122 0.28772351]\n",
      " [0.02369365 0.01379787 0.87515103 0.08735745]\n",
      " [0.18271901 0.75400898 0.05060751 0.0126645 ]\n",
      " [0.39189373 0.05952969 0.21966693 0.32890965]]\n"
     ]
    }
   ],
   "source": [
    "exploration_policy = GetPolicy(train, num_states, num_actions, 1000)\n",
    "new_policy = np.load(\"policies/gw/delta_0.01/safety_0.4380582971385134.npy\")\n",
    "print(new_policy)"
   ]
  },
  {
   "cell_type": "code",
   "execution_count": 19,
   "metadata": {},
   "outputs": [],
   "source": [
    "ISFunc = ImportanceSampling\n",
    "if(USE_PDIS):\n",
    "    ISFunc = PDImportanceSampling"
   ]
  },
  {
   "cell_type": "code",
   "execution_count": 20,
   "metadata": {},
   "outputs": [
    {
     "name": "stdout",
     "output_type": "stream",
     "text": [
      "Averaging Importance Sampling\n",
      "0 / 80000\n",
      "20000 / 80000\n",
      "40000 / 80000\n",
      "60000 / 80000\n",
      "-1.182750951767137\n",
      "Averaging Importance Sampling\n",
      "0 / 20000\n",
      "5000 / 20000\n",
      "10000 / 20000\n",
      "15000 / 20000\n",
      "0.4322671551878296\n"
     ]
    }
   ],
   "source": [
    "J_predicted_lower_bound = Safety_Prediction(train, exploration_policy, gamma, new_policy, ISFunc, delta, len(test))\n",
    "print(J_predicted_lower_bound)\n",
    "J_safety_lower_bound = Safety_Test(test, exploration_policy, gamma, new_policy, ISFunc, delta)\n",
    "print(J_safety_lower_bound)"
   ]
  },
  {
   "cell_type": "code",
   "execution_count": null,
   "metadata": {},
   "outputs": [],
   "source": []
  }
 ],
 "metadata": {
  "kernelspec": {
   "display_name": "Python 3",
   "language": "python",
   "name": "python3"
  },
  "language_info": {
   "codemirror_mode": {
    "name": "ipython",
    "version": 3
   },
   "file_extension": ".py",
   "mimetype": "text/x-python",
   "name": "python",
   "nbconvert_exporter": "python",
   "pygments_lexer": "ipython3",
   "version": "3.7.4"
  }
 },
 "nbformat": 4,
 "nbformat_minor": 4
}
