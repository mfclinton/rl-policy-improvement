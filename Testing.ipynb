{
 "cells": [
  {
   "cell_type": "code",
   "execution_count": 21,
   "metadata": {},
   "outputs": [
    {
     "name": "stdout",
     "output_type": "stream",
     "text": [
      "The autoreload extension is already loaded. To reload it, use:\n",
      "  %reload_ext autoreload\n"
     ]
    }
   ],
   "source": [
    "import numpy as np\n",
    "import matplotlib.pyplot as plt\n",
    "from pprint import pprint\n",
    "import base64\n",
    "import glob\n",
    "import io\n",
    "from IPython.display import HTML\n",
    "from IPython import display \n",
    "\n",
    "%matplotlib inline\n",
    "plt.rcParams['figure.figsize'] = (10.0, 8.0) # set default size of plots\n",
    "plt.rcParams['image.interpolation'] = 'nearest'\n",
    "plt.rcParams['image.cmap'] = 'gray'\n",
    "\n",
    "# for auto-reloading external modules\n",
    "# see http://stackoverflow.com/questions/1907993/autoreload-of-modules-in-ipython\n",
    "%load_ext autoreload\n",
    "%autoreload 2"
   ]
  },
  {
   "cell_type": "code",
   "execution_count": 27,
   "metadata": {},
   "outputs": [],
   "source": [
    "import gym\n",
    "import gym_minigrid\n",
    "from gym.wrappers import Monitor\n",
    "from gym_minigrid.wrappers import FullyObsWrapper"
   ]
  },
  {
   "cell_type": "code",
   "execution_count": 28,
   "metadata": {},
   "outputs": [],
   "source": [
    "def show_video():\n",
    "    mp4list = glob.glob('video/*.mp4')\n",
    "    if len(mp4list) > 0:\n",
    "        mp4 = mp4list[0]\n",
    "        video = io.open(mp4, 'r+b').read()\n",
    "        encoded = base64.b64encode(video)\n",
    "        display.display(HTML(data='''<video alt=\"test\" autoplay \n",
    "                loop controls style=\"height: 400px;\">\n",
    "                <source src=\"data:video/mp4;base64,{0}\" type=\"video/mp4\" />\n",
    "             </video>'''.format(encoded.decode('ascii'))))\n",
    "    else:\n",
    "        print(\"Could not find video\")"
   ]
  },
  {
   "cell_type": "code",
   "execution_count": 29,
   "metadata": {},
   "outputs": [],
   "source": [
    "class RandPolicy:\n",
    "    def __init__(self, action_space):\n",
    "        self.action_space = action_space\n",
    "        \n",
    "    def act(self, *unused_args):\n",
    "        return self.action_space.sample(), None"
   ]
  },
  {
   "cell_type": "code",
   "execution_count": 36,
   "metadata": {},
   "outputs": [
    {
     "name": "stdout",
     "output_type": "stream",
     "text": [
      "Total reward: 0\n",
      "Total length: 100\n"
     ]
    },
    {
     "data": {
      "text/html": [
       "<video alt=\"test\" autoplay \n",
       "                loop controls style=\"height: 400px;\">\n",
       "                <source src=\"data:video/mp4;base64,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\" type=\"video/mp4\" />\n",
       "             </video>"
      ],
      "text/plain": [
       "<IPython.core.display.HTML object>"
      ]
     },
     "metadata": {},
     "output_type": "display_data"
    }
   ],
   "source": [
    "def wrap_env(env):\n",
    "    env = Monitor(env, './video', force=True)\n",
    "    return env\n",
    "\n",
    "def gen_wrapped_env(env_name):\n",
    "    return wrap_env(FullyObsWrapper(gym.make(env_name)))\n",
    "\n",
    "def log_policy_rollout(policy, env_name, pytorch_policy=False):\n",
    "    # Create environment with flat observation\n",
    "    env = gen_wrapped_env(env_name)\n",
    "\n",
    "    # Initialize environment\n",
    "    observation = env.reset()\n",
    "\n",
    "    done = False\n",
    "    episode_reward = 0\n",
    "    episode_length = 0\n",
    "\n",
    "    # Run until done == True\n",
    "    while not done:\n",
    "      # Take a step\n",
    "        if pytorch_policy: \n",
    "            observation = torch.tensor(observation, dtype=torch.float32)\n",
    "            action = policy.act(observation)[0].data.cpu().numpy()\n",
    "        else:\n",
    "            action = policy.act(observation)[0]\n",
    "#             print(observation)\n",
    "#             break\n",
    "        observation, reward, done, info = env.step(action)\n",
    "\n",
    "        episode_reward += reward\n",
    "        episode_length += 1\n",
    "\n",
    "    print('Total reward:', episode_reward)\n",
    "    print('Total length:', episode_length)\n",
    "\n",
    "    env.close()\n",
    "    \n",
    "    show_video()\n",
    "\n",
    "# Test that the logging function is working\n",
    "test_env_name = 'MiniGrid-Empty-5x5-v0'\n",
    "rand_policy = RandPolicy(FullyObsWrapper(gym.make(test_env_name)).action_space)\n",
    "log_policy_rollout(rand_policy, test_env_name)"
   ]
  },
  {
   "cell_type": "code",
   "execution_count": null,
   "metadata": {},
   "outputs": [],
   "source": []
  }
 ],
 "metadata": {
  "kernelspec": {
   "display_name": "Python 3",
   "language": "python",
   "name": "python3"
  },
  "language_info": {
   "codemirror_mode": {
    "name": "ipython",
    "version": 3
   },
   "file_extension": ".py",
   "mimetype": "text/x-python",
   "name": "python",
   "nbconvert_exporter": "python",
   "pygments_lexer": "ipython3",
   "version": "3.7.4"
  }
 },
 "nbformat": 4,
 "nbformat_minor": 4
}
