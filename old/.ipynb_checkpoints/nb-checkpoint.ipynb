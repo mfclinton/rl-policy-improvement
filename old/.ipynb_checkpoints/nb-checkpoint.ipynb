{
 "cells": [
  {
   "cell_type": "code",
   "execution_count": 51,
   "metadata": {},
   "outputs": [],
   "source": [
    "import numpy as np\n",
    "from scipy import stats"
   ]
  },
  {
   "cell_type": "code",
   "execution_count": 41,
   "metadata": {},
   "outputs": [],
   "source": [
    "num_states = 18\n",
    "num_actions = 4\n",
    "gamma = 0.95"
   ]
  },
  {
   "cell_type": "code",
   "execution_count": 2,
   "metadata": {},
   "outputs": [],
   "source": [
    "num_episodes = -1\n",
    "histories = []\n",
    "with open(\"data.csv\") as file:\n",
    "    cur_episode = -1\n",
    "    cur_history = None\n",
    "    cur_timestep = -1\n",
    "    for idx, line in enumerate(file):\n",
    "        if(idx == 0):\n",
    "            num_episodes = int(line)\n",
    "            continue\n",
    "        \n",
    "        data = line.split(\",\")\n",
    "        if(len(data) == 1):\n",
    "            num_time_steps = int(line)\n",
    "            cur_episode += 1\n",
    "            cur_timestep = 0\n",
    "            histories.append(np.zeros((num_time_steps, 4)))\n",
    "            continue\n",
    "            \n",
    "        St, At, Rt, pib = data\n",
    "        histories[cur_episode][cur_timestep, 0] = int(St)\n",
    "        histories[cur_episode][cur_timestep, 1] = int(At)\n",
    "        histories[cur_episode][cur_timestep, 2] = float(Rt)\n",
    "        histories[cur_episode][cur_timestep, 3] = float(pib)         \n",
    "        cur_timestep += 1\n",
    "        \n",
    "        "
   ]
  },
  {
   "cell_type": "code",
   "execution_count": 52,
   "metadata": {},
   "outputs": [],
   "source": [
    "s_histories = []\n",
    "for i in range(int(len(histories) * 0.3)):\n",
    "    s_histories.append(histories.pop())"
   ]
  },
  {
   "cell_type": "code",
   "execution_count": 56,
   "metadata": {},
   "outputs": [
    {
     "name": "stdout",
     "output_type": "stream",
     "text": [
      "700000\n",
      "300000\n"
     ]
    }
   ],
   "source": [
    "print(len(histories))\n",
    "print(len(s_histories))"
   ]
  },
  {
   "cell_type": "code",
   "execution_count": 4,
   "metadata": {},
   "outputs": [],
   "source": [
    "def SanityCheckConsistentPolicy():\n",
    "    for i, h in enumerate(histories):\n",
    "        for state in range(num_states):\n",
    "            same_state = h[h[:,0] == state]\n",
    "            if(same_state.shape[0] == 0):\n",
    "                continue\n",
    "\n",
    "            if (not (same_state[:,3] == same_state[0,3]).all()):\n",
    "                print(i)"
   ]
  },
  {
   "cell_type": "code",
   "execution_count": 9,
   "metadata": {},
   "outputs": [],
   "source": [
    "def GetPolicy(ep_num):\n",
    "    policy = np.zeros((num_states, num_actions))\n",
    "    traj = histories[ep_num]\n",
    "    \n",
    "    for state in range(num_states):\n",
    "        for action in range(num_actions):\n",
    "            valid_idx = np.logical_and(traj[:,0] == state, traj[:,1] == action)\n",
    "            if(not valid_idx.any()):\n",
    "                continue\n",
    "            \n",
    "            policy[state, action] = traj[valid_idx][0,3]\n",
    "            \n",
    "    return policy\n",
    "    "
   ]
  },
  {
   "cell_type": "code",
   "execution_count": 33,
   "metadata": {},
   "outputs": [],
   "source": [
    "cur_policy = np.zeros((num_states, num_actions))\n",
    "\n",
    "# for ep in range(len(histories)):\n",
    "for ep in range(10):\n",
    "    temp_p = GetPolicy(ep)\n",
    "    for state in range(num_states):\n",
    "        for action in range(num_actions):\n",
    "            if((cur_policy[state, action] == 0) and (temp_p[state, action] != 0)):\n",
    "                cur_policy[state, action] = temp_p[state, action]\n",
    "\n"
   ]
  },
  {
   "cell_type": "code",
   "execution_count": 46,
   "metadata": {},
   "outputs": [],
   "source": [
    "def ImportanceSampling(ep_num, new_policy):\n",
    "    traj = histories[ep_num]\n",
    "    is_weight = 1\n",
    "    disc_return = 0\n",
    "    for j in range(traj.shape[0]):\n",
    "        St, At, Rt, _ = traj[j]\n",
    "        St = int(St)\n",
    "        At = int(At)\n",
    "        is_weight *= new_policy[St, At] / cur_policy[St, At]\n",
    "        disc_return += (gamma ** j) * Rt\n",
    "    return is_weight * disc_return\n",
    "\n",
    "def PDImportanceSampling(ep_num, new_policy):\n",
    "    traj = histories[ep_num]\n",
    "    \n",
    "    result = 0\n",
    "    for t in range(traj.shape[0]):\n",
    "        _, _, Rt, _ = traj[t]\n",
    "        is_weight = 1\n",
    "        for j in range(t + 1):\n",
    "            St, At, _, _ = traj[j]\n",
    "            St = int(St)\n",
    "            At = int(At)\n",
    "            is_weight *= new_policy[St, At] / cur_policy[St, At]\n",
    "        result += (gamma ** t) * is_weight * Rt\n",
    "    return result"
   ]
  },
  {
   "cell_type": "code",
   "execution_count": 60,
   "metadata": {},
   "outputs": [],
   "source": [
    "def CalcAvgIS(new_policy, ISFunc):\n",
    "    total = 0\n",
    "    for ep in range(len(histories)):\n",
    "        total += ISFunc(ep, new_policy)\n",
    "    return total / len(histories)\n",
    "\n",
    "def CalcStdDev(new_policy, ISFunc):\n",
    "    avgIS = CalcAvgIS(new_policy, ISFunc)\n",
    "    total = 0\n",
    "    for ep in range(len(histories)):\n",
    "        total += (ISFunc(ep, new_policy) - avgIS)**2\n",
    "    \n",
    "    return np.sqrt((1 / (len(histories) - 1)) * total)\n",
    "\n",
    "def TTest(new_policy, ISFunc, delta, num_safety):\n",
    "    t_value = stats.t.ppf(1-delta, num_safety - 1)\n",
    "    avgIS = CalcAvgIS(new_policy, ISFunc)\n",
    "    std_dev = CalcStdDev(new_policy, ISFunc)\n",
    "    \n",
    "    return avgIS - (std_dev / np.sqrt(num_safety)) * t_value\n",
    "    "
   ]
  },
  {
   "cell_type": "code",
   "execution_count": 62,
   "metadata": {},
   "outputs": [
    {
     "ename": "KeyboardInterrupt",
     "evalue": "",
     "output_type": "error",
     "traceback": [
      "\u001b[1;31m---------------------------------------------------------------------------\u001b[0m",
      "\u001b[1;31mKeyboardInterrupt\u001b[0m                         Traceback (most recent call last)",
      "\u001b[1;32m<ipython-input-62-b6ceac410de3>\u001b[0m in \u001b[0;36m<module>\u001b[1;34m\u001b[0m\n\u001b[1;32m----> 1\u001b[1;33m \u001b[0mresult\u001b[0m \u001b[1;33m=\u001b[0m \u001b[0mTTest\u001b[0m\u001b[1;33m(\u001b[0m\u001b[0mcur_policy\u001b[0m\u001b[1;33m,\u001b[0m \u001b[0mPDImportanceSampling\u001b[0m\u001b[1;33m,\u001b[0m \u001b[1;36m0.1\u001b[0m\u001b[1;33m,\u001b[0m \u001b[0mlen\u001b[0m\u001b[1;33m(\u001b[0m\u001b[0ms_histories\u001b[0m\u001b[1;33m)\u001b[0m\u001b[1;33m)\u001b[0m\u001b[1;33m\u001b[0m\u001b[1;33m\u001b[0m\u001b[0m\n\u001b[0m",
      "\u001b[1;32m<ipython-input-60-344c277c7747>\u001b[0m in \u001b[0;36mTTest\u001b[1;34m(new_policy, ISFunc, delta, num_safety)\u001b[0m\n\u001b[0;32m     15\u001b[0m \u001b[1;32mdef\u001b[0m \u001b[0mTTest\u001b[0m\u001b[1;33m(\u001b[0m\u001b[0mnew_policy\u001b[0m\u001b[1;33m,\u001b[0m \u001b[0mISFunc\u001b[0m\u001b[1;33m,\u001b[0m \u001b[0mdelta\u001b[0m\u001b[1;33m,\u001b[0m \u001b[0mnum_safety\u001b[0m\u001b[1;33m)\u001b[0m\u001b[1;33m:\u001b[0m\u001b[1;33m\u001b[0m\u001b[1;33m\u001b[0m\u001b[0m\n\u001b[0;32m     16\u001b[0m     \u001b[0mt_value\u001b[0m \u001b[1;33m=\u001b[0m \u001b[0mstats\u001b[0m\u001b[1;33m.\u001b[0m\u001b[0mt\u001b[0m\u001b[1;33m.\u001b[0m\u001b[0mppf\u001b[0m\u001b[1;33m(\u001b[0m\u001b[1;36m1\u001b[0m\u001b[1;33m-\u001b[0m\u001b[0mdelta\u001b[0m\u001b[1;33m,\u001b[0m \u001b[0mnum_safety\u001b[0m \u001b[1;33m-\u001b[0m \u001b[1;36m1\u001b[0m\u001b[1;33m)\u001b[0m\u001b[1;33m\u001b[0m\u001b[1;33m\u001b[0m\u001b[0m\n\u001b[1;32m---> 17\u001b[1;33m     \u001b[0mavgIS\u001b[0m \u001b[1;33m=\u001b[0m \u001b[0mCalcAvgIS\u001b[0m\u001b[1;33m(\u001b[0m\u001b[0mnew_policy\u001b[0m\u001b[1;33m,\u001b[0m \u001b[0mISFunc\u001b[0m\u001b[1;33m)\u001b[0m\u001b[1;33m\u001b[0m\u001b[1;33m\u001b[0m\u001b[0m\n\u001b[0m\u001b[0;32m     18\u001b[0m     \u001b[0mstd_dev\u001b[0m \u001b[1;33m=\u001b[0m \u001b[0mCalcStdDev\u001b[0m\u001b[1;33m(\u001b[0m\u001b[0mnew_policy\u001b[0m\u001b[1;33m,\u001b[0m \u001b[0mISFunc\u001b[0m\u001b[1;33m)\u001b[0m\u001b[1;33m\u001b[0m\u001b[1;33m\u001b[0m\u001b[0m\n\u001b[0;32m     19\u001b[0m \u001b[1;33m\u001b[0m\u001b[0m\n",
      "\u001b[1;32m<ipython-input-60-344c277c7747>\u001b[0m in \u001b[0;36mCalcAvgIS\u001b[1;34m(new_policy, ISFunc)\u001b[0m\n\u001b[0;32m      2\u001b[0m     \u001b[0mtotal\u001b[0m \u001b[1;33m=\u001b[0m \u001b[1;36m0\u001b[0m\u001b[1;33m\u001b[0m\u001b[1;33m\u001b[0m\u001b[0m\n\u001b[0;32m      3\u001b[0m     \u001b[1;32mfor\u001b[0m \u001b[0mep\u001b[0m \u001b[1;32min\u001b[0m \u001b[0mrange\u001b[0m\u001b[1;33m(\u001b[0m\u001b[0mlen\u001b[0m\u001b[1;33m(\u001b[0m\u001b[0mhistories\u001b[0m\u001b[1;33m)\u001b[0m\u001b[1;33m)\u001b[0m\u001b[1;33m:\u001b[0m\u001b[1;33m\u001b[0m\u001b[1;33m\u001b[0m\u001b[0m\n\u001b[1;32m----> 4\u001b[1;33m         \u001b[0mtotal\u001b[0m \u001b[1;33m+=\u001b[0m \u001b[0mISFunc\u001b[0m\u001b[1;33m(\u001b[0m\u001b[0mep\u001b[0m\u001b[1;33m,\u001b[0m \u001b[0mnew_policy\u001b[0m\u001b[1;33m)\u001b[0m\u001b[1;33m\u001b[0m\u001b[1;33m\u001b[0m\u001b[0m\n\u001b[0m\u001b[0;32m      5\u001b[0m     \u001b[1;32mreturn\u001b[0m \u001b[0mtotal\u001b[0m \u001b[1;33m/\u001b[0m \u001b[0mlen\u001b[0m\u001b[1;33m(\u001b[0m\u001b[0mhistories\u001b[0m\u001b[1;33m)\u001b[0m\u001b[1;33m\u001b[0m\u001b[1;33m\u001b[0m\u001b[0m\n\u001b[0;32m      6\u001b[0m \u001b[1;33m\u001b[0m\u001b[0m\n",
      "\u001b[1;32m<ipython-input-46-622adc324c2e>\u001b[0m in \u001b[0;36mPDImportanceSampling\u001b[1;34m(ep_num, new_policy)\u001b[0m\n\u001b[0;32m     22\u001b[0m             \u001b[0mSt\u001b[0m \u001b[1;33m=\u001b[0m \u001b[0mint\u001b[0m\u001b[1;33m(\u001b[0m\u001b[0mSt\u001b[0m\u001b[1;33m)\u001b[0m\u001b[1;33m\u001b[0m\u001b[1;33m\u001b[0m\u001b[0m\n\u001b[0;32m     23\u001b[0m             \u001b[0mAt\u001b[0m \u001b[1;33m=\u001b[0m \u001b[0mint\u001b[0m\u001b[1;33m(\u001b[0m\u001b[0mAt\u001b[0m\u001b[1;33m)\u001b[0m\u001b[1;33m\u001b[0m\u001b[1;33m\u001b[0m\u001b[0m\n\u001b[1;32m---> 24\u001b[1;33m             \u001b[0mis_weight\u001b[0m \u001b[1;33m*=\u001b[0m \u001b[0mnew_policy\u001b[0m\u001b[1;33m[\u001b[0m\u001b[0mSt\u001b[0m\u001b[1;33m,\u001b[0m \u001b[0mAt\u001b[0m\u001b[1;33m]\u001b[0m \u001b[1;33m/\u001b[0m \u001b[0mcur_policy\u001b[0m\u001b[1;33m[\u001b[0m\u001b[0mSt\u001b[0m\u001b[1;33m,\u001b[0m \u001b[0mAt\u001b[0m\u001b[1;33m]\u001b[0m\u001b[1;33m\u001b[0m\u001b[1;33m\u001b[0m\u001b[0m\n\u001b[0m\u001b[0;32m     25\u001b[0m         \u001b[0mresult\u001b[0m \u001b[1;33m+=\u001b[0m \u001b[1;33m(\u001b[0m\u001b[0mgamma\u001b[0m \u001b[1;33m**\u001b[0m \u001b[0mt\u001b[0m\u001b[1;33m)\u001b[0m \u001b[1;33m*\u001b[0m \u001b[0mis_weight\u001b[0m \u001b[1;33m*\u001b[0m \u001b[0mRt\u001b[0m\u001b[1;33m\u001b[0m\u001b[1;33m\u001b[0m\u001b[0m\n\u001b[0;32m     26\u001b[0m     \u001b[1;32mreturn\u001b[0m \u001b[0mresult\u001b[0m\u001b[1;33m\u001b[0m\u001b[1;33m\u001b[0m\u001b[0m\n",
      "\u001b[1;31mKeyboardInterrupt\u001b[0m: "
     ]
    }
   ],
   "source": [
    "result = TTest(cur_policy, PDImportanceSampling, 0.1, len(s_histories))"
   ]
  },
  {
   "cell_type": "code",
   "execution_count": 63,
   "metadata": {},
   "outputs": [
    {
     "ename": "ModuleNotFoundError",
     "evalue": "No module named 'cupy'",
     "output_type": "error",
     "traceback": [
      "\u001b[1;31m---------------------------------------------------------------------------\u001b[0m",
      "\u001b[1;31mModuleNotFoundError\u001b[0m                       Traceback (most recent call last)",
      "\u001b[1;32m<ipython-input-63-e011b0e859cc>\u001b[0m in \u001b[0;36m<module>\u001b[1;34m\u001b[0m\n\u001b[1;32m----> 1\u001b[1;33m \u001b[1;32mimport\u001b[0m \u001b[0mcupy\u001b[0m \u001b[1;32mas\u001b[0m \u001b[0mcp\u001b[0m\u001b[1;33m\u001b[0m\u001b[1;33m\u001b[0m\u001b[0m\n\u001b[0m",
      "\u001b[1;31mModuleNotFoundError\u001b[0m: No module named 'cupy'"
     ]
    }
   ],
   "source": [
    "import cupy as cp"
   ]
  },
  {
   "cell_type": "code",
   "execution_count": null,
   "metadata": {},
   "outputs": [],
   "source": []
  }
 ],
 "metadata": {
  "kernelspec": {
   "display_name": "Python 3",
   "language": "python",
   "name": "python3"
  },
  "language_info": {
   "codemirror_mode": {
    "name": "ipython",
    "version": 3
   },
   "file_extension": ".py",
   "mimetype": "text/x-python",
   "name": "python",
   "nbconvert_exporter": "python",
   "pygments_lexer": "ipython3",
   "version": "3.7.4"
  }
 },
 "nbformat": 4,
 "nbformat_minor": 4
}
