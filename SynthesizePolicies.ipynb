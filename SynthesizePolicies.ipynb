{
 "cells": [
  {
   "cell_type": "code",
   "execution_count": 1,
   "metadata": {},
   "outputs": [],
   "source": [
    "import numpy as np\n",
    "import torch\n",
    "from scipy import stats\n",
    "from lib.DataManager import *\n",
    "from lib.PolicyStats import *\n",
    "import os\n",
    "import cma\n",
    "from cma.constraints_handler import AugmentedLagrangian, PopulationEvaluator\n",
    "from IPython import display\n",
    "import pickle"
   ]
  },
  {
   "cell_type": "code",
   "execution_count": 7,
   "metadata": {},
   "outputs": [],
   "source": [
    "def policy_softmax(policy):\n",
    "    numerators = np.exp(policy)\n",
    "    return (numerators.T / np.sum(numerators, axis=1)).T"
   ]
  },
  {
   "cell_type": "code",
   "execution_count": 2,
   "metadata": {},
   "outputs": [
    {
     "name": "stdout",
     "output_type": "stream",
     "text": [
      "ES_Convergence : 85.04553640730798\n"
     ]
    }
   ],
   "source": [
    "num_policies = 100\n",
    "es = pickle.load(open(\"pickles//saved-cma-gw-is-20.pkl\", \"rb\"))\n",
    "print(\"ES_Convergence : \" + str(sum(es.mean**2)))"
   ]
  },
  {
   "cell_type": "code",
   "execution_count": 5,
   "metadata": {},
   "outputs": [
    {
     "name": "stdout",
     "output_type": "stream",
     "text": [
      "[[ 1  1  3  2  2]\n",
      " [ 1  0  1  2  1]\n",
      " [ 0  0 -1  3  2]\n",
      " [ 1  2 -1  3  3]\n",
      " [ 0  2  3  2  1]]\n"
     ]
    }
   ],
   "source": [
    "greed_policy = np.argmax(es.result.xbest.reshape(23,4),axis=1)\n",
    "print(np.insert(greed_policy, [12,16],[-1,-1]).reshape((5,5)))"
   ]
  },
  {
   "cell_type": "code",
   "execution_count": 8,
   "metadata": {},
   "outputs": [
    {
     "data": {
      "text/plain": [
       "array([[0.10949767, 0.60798263, 0.17897431, 0.10354539],\n",
       "       [0.0643022 , 0.47355261, 0.3133417 , 0.14880349],\n",
       "       [0.32165237, 0.20080725, 0.0369522 , 0.44058818],\n",
       "       [0.21228228, 0.08041023, 0.61956999, 0.08773749],\n",
       "       [0.0698699 , 0.20836866, 0.59440639, 0.12735505],\n",
       "       [0.03609926, 0.6519258 , 0.15292854, 0.1590464 ],\n",
       "       [0.6375451 , 0.1865995 , 0.16037985, 0.01547555],\n",
       "       [0.04826809, 0.83663126, 0.07352048, 0.04158017],\n",
       "       [0.02497457, 0.30065161, 0.60525945, 0.06911437],\n",
       "       [0.23542035, 0.30270864, 0.18192164, 0.27994937],\n",
       "       [0.41940101, 0.32796263, 0.11342856, 0.13920779],\n",
       "       [0.51603337, 0.08554994, 0.18054402, 0.21787267],\n",
       "       [0.23905087, 0.01296784, 0.18179429, 0.566187  ],\n",
       "       [0.10593255, 0.0909279 , 0.73574312, 0.06739643],\n",
       "       [0.22550855, 0.45418854, 0.22200703, 0.09829587],\n",
       "       [0.35362845, 0.10218828, 0.37079136, 0.17339192],\n",
       "       [0.07504114, 0.17110136, 0.34766438, 0.40619312],\n",
       "       [0.39458078, 0.13952392, 0.05223467, 0.41366064],\n",
       "       [0.68796898, 0.06873367, 0.10945286, 0.13384449],\n",
       "       [0.07086756, 0.12381955, 0.58616681, 0.21914608],\n",
       "       [0.13046791, 0.13122982, 0.17466073, 0.56364154],\n",
       "       [0.06540321, 0.45500362, 0.45511883, 0.02447433],\n",
       "       [0.09708068, 0.58919565, 0.18611519, 0.12760847]])"
      ]
     },
     "execution_count": 8,
     "metadata": {},
     "output_type": "execute_result"
    }
   ],
   "source": [
    "policy_softmax(es.result.xbest.reshape(23,4))"
   ]
  },
  {
   "cell_type": "code",
   "execution_count": null,
   "metadata": {},
   "outputs": [],
   "source": []
  }
 ],
 "metadata": {
  "kernelspec": {
   "display_name": "Python 3",
   "language": "python",
   "name": "python3"
  },
  "language_info": {
   "codemirror_mode": {
    "name": "ipython",
    "version": 3
   },
   "file_extension": ".py",
   "mimetype": "text/x-python",
   "name": "python",
   "nbconvert_exporter": "python",
   "pygments_lexer": "ipython3",
   "version": "3.7.4"
  }
 },
 "nbformat": 4,
 "nbformat_minor": 4
}
