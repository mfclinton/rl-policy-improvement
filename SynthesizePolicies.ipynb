{
 "cells": [
  {
   "cell_type": "code",
   "execution_count": 1,
   "metadata": {},
   "outputs": [],
   "source": [
    "%load_ext autoreload\n",
    "%autoreload 2"
   ]
  },
  {
   "cell_type": "code",
   "execution_count": 2,
   "metadata": {},
   "outputs": [],
   "source": [
    "import numpy as np\n",
    "import torch\n",
    "from scipy import stats\n",
    "from lib.DataManager import *\n",
    "from lib.PolicyStats import *\n",
    "from lib.Gridworld import *\n",
    "import os\n",
    "import cma\n",
    "from cma.constraints_handler import AugmentedLagrangian, PopulationEvaluator\n",
    "from IPython import display\n",
    "import pickle"
   ]
  },
  {
   "cell_type": "code",
   "execution_count": 3,
   "metadata": {},
   "outputs": [],
   "source": [
    "#---SET PARAMS---\n",
    "USE_GRIDWORLD = True\n",
    "USE_PDIS = True\n",
    "percent_increase = 0.1\n",
    "num_policies = 100\n",
    "\n",
    "num_states = 18\n",
    "if(USE_GRIDWORLD):\n",
    "    num_states = 23\n",
    "num_actions = 4\n",
    "gamma = 0.95\n",
    "delta = 0.01 #1 - delta, confidence"
   ]
  },
  {
   "cell_type": "code",
   "execution_count": 4,
   "metadata": {},
   "outputs": [
    {
     "name": "stdout",
     "output_type": "stream",
     "text": [
      "line 0\n",
      "line 1000000\n",
      "line 2000000\n",
      "line 3000000\n",
      "line 4000000\n",
      "line 5000000\n",
      "line 6000000\n",
      "line 7000000\n"
     ]
    }
   ],
   "source": [
    "path = \"data\\data.csv\"\n",
    "if(USE_GRIDWORLD):\n",
    "    path = \"data\\gridworld_data.csv\"\n",
    "\n",
    "histories = GetHistories(path, gamma)"
   ]
  },
  {
   "cell_type": "code",
   "execution_count": 5,
   "metadata": {},
   "outputs": [
    {
     "name": "stdout",
     "output_type": "stream",
     "text": [
      "80000\n",
      "20000\n"
     ]
    }
   ],
   "source": [
    "train, test = SplitData(histories)"
   ]
  },
  {
   "cell_type": "code",
   "execution_count": 6,
   "metadata": {},
   "outputs": [
    {
     "name": "stdout",
     "output_type": "stream",
     "text": [
      "Average Baseline Return : -0.9422074904303682\n"
     ]
    }
   ],
   "source": [
    "avg_exploratory_J = GetAverageReturn(histories)"
   ]
  },
  {
   "cell_type": "code",
   "execution_count": 7,
   "metadata": {},
   "outputs": [
    {
     "name": "stdout",
     "output_type": "stream",
     "text": [
      "Target Performance : -0.8479867413873314\n"
     ]
    }
   ],
   "source": [
    "target_performance = GetTargetPerformance(USE_GRIDWORLD, avg_exploratory_J, percent_increase)"
   ]
  },
  {
   "cell_type": "code",
   "execution_count": 8,
   "metadata": {},
   "outputs": [
    {
     "name": "stdout",
     "output_type": "stream",
     "text": [
      "[[0.25 0.25 0.25 0.25]\n",
      " [0.25 0.25 0.25 0.25]\n",
      " [0.25 0.25 0.25 0.25]\n",
      " [0.25 0.25 0.25 0.25]\n",
      " [0.25 0.25 0.25 0.25]\n",
      " [0.25 0.25 0.25 0.25]\n",
      " [0.25 0.25 0.25 0.25]\n",
      " [0.25 0.25 0.25 0.25]\n",
      " [0.25 0.25 0.25 0.25]\n",
      " [0.25 0.25 0.25 0.25]\n",
      " [0.25 0.25 0.25 0.25]\n",
      " [0.25 0.25 0.25 0.25]\n",
      " [0.25 0.25 0.25 0.25]\n",
      " [0.25 0.25 0.25 0.25]\n",
      " [0.25 0.25 0.25 0.25]\n",
      " [0.25 0.25 0.25 0.25]\n",
      " [0.25 0.25 0.25 0.25]\n",
      " [0.25 0.25 0.25 0.25]\n",
      " [0.25 0.25 0.25 0.25]\n",
      " [0.25 0.25 0.25 0.25]\n",
      " [0.25 0.25 0.25 0.25]\n",
      " [0.25 0.25 0.25 0.25]\n",
      " [0.25 0.25 0.25 0.25]]\n"
     ]
    }
   ],
   "source": [
    "exploration_policy = GetPolicy(train, num_states, num_actions, 1000)\n",
    "print(exploration_policy)"
   ]
  },
  {
   "cell_type": "code",
   "execution_count": 9,
   "metadata": {},
   "outputs": [],
   "source": [
    "ISFunc = ImportanceSampling\n",
    "if(USE_PDIS):\n",
    "    ISFunc = PDImportanceSampling"
   ]
  },
  {
   "cell_type": "code",
   "execution_count": 10,
   "metadata": {},
   "outputs": [
    {
     "name": "stdout",
     "output_type": "stream",
     "text": [
      "ES_Convergence : 51.789221010893534\n"
     ]
    }
   ],
   "source": [
    "es = pickle.load(open(\"pickles//saved-cma-gw-pdis-10.pkl\", \"rb\"))\n",
    "print(\"ES_Convergence : \" + str(sum(es.mean**2)))"
   ]
  },
  {
   "cell_type": "code",
   "execution_count": 11,
   "metadata": {},
   "outputs": [],
   "source": [
    "def policy_softmax(policy):\n",
    "    numerators = np.exp(policy)\n",
    "    return (numerators.T / np.sum(numerators, axis=1)).T"
   ]
  },
  {
   "cell_type": "code",
   "execution_count": null,
   "metadata": {},
   "outputs": [
    {
     "name": "stdout",
     "output_type": "stream",
     "text": [
      "~x~~x~~~x~~~~~x~~~~~x~~~x~~~~~x~~~~x~~\n",
      "0\n",
      "Value: -0.8479867413873314\n",
      "Predicted Baseline: -0.07994074900435577\n",
      "Safety Baseline: 0.28177145971321677\n",
      "---distance of return from lower bounds ---\n",
      "Looseness Of Prediction : 0.7680459923829757\n",
      "Looseness Of Safety : 1.1297582011005483\n",
      "-------------------------------------------\n",
      "Value: 0.720503259319134\n",
      "Predicted Baseline: -0.07994074900435577\n",
      "Safety Baseline: 0.28177145971321677\n",
      "---distance of return from lower bounds ---\n",
      "Looseness Of Prediction : 0.8004440083234897\n",
      "Looseness Of Safety : 0.4387317996059172\n",
      "-------------------------------------------\n",
      "~x~~x~~~x~~~~~x~~~~~x~~~x~~~~~x~~~~x~~\n",
      "1\n",
      "Value: -0.8479867413873314\n",
      "Predicted Baseline: -0.6931744427649585\n",
      "Safety Baseline: 0.07241729651554352\n",
      "---distance of return from lower bounds ---\n",
      "Looseness Of Prediction : 0.1548122986223729\n",
      "Looseness Of Safety : 0.920404037902875\n",
      "-------------------------------------------\n",
      "Value: 0.678129281388419\n",
      "Predicted Baseline: -0.6931744427649585\n",
      "Safety Baseline: 0.07241729651554352\n",
      "---distance of return from lower bounds ---\n",
      "Looseness Of Prediction : 1.3713037241533774\n",
      "Looseness Of Safety : 0.6057119848728755\n",
      "-------------------------------------------\n",
      "~x~~x~~~x~~~~~x~~~~~x~~~x~~~~~x~~~~x~~\n",
      "2\n",
      "Value: -0.8479867413873314\n",
      "Predicted Baseline: -0.3988428180748522\n",
      "Safety Baseline: 0.6616534260804908\n",
      "---distance of return from lower bounds ---\n",
      "Looseness Of Prediction : 0.4491439233124792\n",
      "Looseness Of Safety : 1.5096401674678224\n",
      "-------------------------------------------\n",
      "Value: 1.5095951170635742\n",
      "Predicted Baseline: -0.3988428180748522\n",
      "Safety Baseline: 0.6616534260804908\n",
      "---distance of return from lower bounds ---\n",
      "Looseness Of Prediction : 1.9084379351384264\n",
      "Looseness Of Safety : 0.8479416909830834\n",
      "-------------------------------------------\n",
      "~x~~x~~~x~~~~~x~~~~~x~~~x~~~~~x~~~~x~~\n",
      "3\n",
      "Value: -0.8479867413873314\n",
      "Predicted Baseline: -1.0846258457723021\n",
      "Safety Baseline: -1.045113251531416\n",
      "---distance of return from lower bounds ---\n",
      "Looseness Of Prediction : -0.2366391043849707\n",
      "Looseness Of Safety : -0.19712651014408467\n",
      "___F A I L___\n",
      "~x~~x~~~x~~~~~x~~~~~x~~~x~~~~~x~~~~x~~\n",
      "3\n",
      "Value: -0.8479867413873314\n",
      "Predicted Baseline: -0.4203920110351933\n",
      "Safety Baseline: -1.9675943352726435\n",
      "---distance of return from lower bounds ---\n",
      "Looseness Of Prediction : 0.42759473035213813\n",
      "Looseness Of Safety : -1.119607593885312\n",
      "___F A I L___\n",
      "~x~~x~~~x~~~~~x~~~~~x~~~x~~~~~x~~~~x~~\n",
      "3\n",
      "Value: -0.8479867413873314\n",
      "Predicted Baseline: -0.6104549424948766\n",
      "Safety Baseline: 0.3346527909343398\n",
      "---distance of return from lower bounds ---\n",
      "Looseness Of Prediction : 0.2375317988924548\n",
      "Looseness Of Safety : 1.1826395323216712\n",
      "-------------------------------------------\n",
      "Value: 0.9797287244742178\n",
      "Predicted Baseline: -0.6104549424948766\n",
      "Safety Baseline: 0.3346527909343398\n",
      "---distance of return from lower bounds ---\n",
      "Looseness Of Prediction : 1.5901836669690943\n",
      "Looseness Of Safety : 0.6450759335398779\n",
      "-------------------------------------------\n",
      "~x~~x~~~x~~~~~x~~~~~x~~~x~~~~~x~~~~x~~\n",
      "4\n",
      "Value: -0.8479867413873314\n",
      "Predicted Baseline: -1.0927854535991548\n",
      "Safety Baseline: 0.0850389058696992\n",
      "---distance of return from lower bounds ---\n",
      "Looseness Of Prediction : -0.24479871221182337\n",
      "Looseness Of Safety : 0.9330256472570306\n",
      "___F A I L___\n",
      "~x~~x~~~x~~~~~x~~~~~x~~~x~~~~~x~~~~x~~\n",
      "4\n",
      "Value: -0.8479867413873314\n",
      "Predicted Baseline: -0.26420871038555394\n",
      "Safety Baseline: -0.9071173914887525\n",
      "---distance of return from lower bounds ---\n",
      "Looseness Of Prediction : 0.5837780310017775\n",
      "Looseness Of Safety : -0.059130650101421045\n",
      "___F A I L___\n",
      "~x~~x~~~x~~~~~x~~~~~x~~~x~~~~~x~~~~x~~\n",
      "4\n"
     ]
    }
   ],
   "source": [
    "avg_returns = 0\n",
    "new_policy = None\n",
    "theoretical_fails = 0\n",
    "actual_fails = 0\n",
    "i = 0\n",
    "while i < num_policies:\n",
    "    passed_theoretical = False\n",
    "    try:\n",
    "        print(\"~x~~x~~~x~~~~~x~~~~~x~~~x~~~~~x~~~~x~~\")\n",
    "        print(i)\n",
    "        solution = es.ask(1)[0].reshape(num_states, num_actions)\n",
    "        new_policy = policy_softmax(solution)\n",
    "        ConfirmBounds(False, target_performance, train, test, exploration_policy, gamma, new_policy, ISFunc, delta)\n",
    "        passed_theoretical = True\n",
    "        #policy passes theoretic check\n",
    "\n",
    "        actual_J = GetGridworldReturn(new_policy, gamma, 100000)\n",
    "\n",
    "        ConfirmBounds(True, actual_J, train, test, exploration_policy, gamma, new_policy, ISFunc, delta)\n",
    "        #policy passes actual check\n",
    "\n",
    "        avg_returns += actual_J\n",
    "        i += 1\n",
    "    except:\n",
    "        print(\"___F A I L___\")\n",
    "        if(passed_theoretical):\n",
    "            actual_fails += 1\n",
    "        else:\n",
    "            theoretical_fails += 1\n",
    "\n",
    "avg_returns /= num_policies\n",
    "print(\"Number of Actual Fails : \" + str(actual_fails))\n",
    "print(\"Number of Theoretical Fails : \" + str(theoretical_fails))\n",
    "print(\"Average Return : \" + str(avg_returns))\n",
    "print(\"Target : \" + str(target_performance))\n",
    "print(\"Confidence : \" + str(delta))"
   ]
  },
  {
   "cell_type": "code",
   "execution_count": null,
   "metadata": {},
   "outputs": [],
   "source": [
    "greed_policy = np.argmax(new_policy,axis=1)\n",
    "\n",
    "if(USE_GRIDWORLD):\n",
    "    print(np.insert(greed_policy, [12,16],[-1,-1]).reshape((5,5)))\n",
    "else:\n",
    "    print(greed_policy.reshape(6,-1))"
   ]
  },
  {
   "cell_type": "code",
   "execution_count": null,
   "metadata": {},
   "outputs": [],
   "source": []
  }
 ],
 "metadata": {
  "kernelspec": {
   "display_name": "Python 3",
   "language": "python",
   "name": "python3"
  },
  "language_info": {
   "codemirror_mode": {
    "name": "ipython",
    "version": 3
   },
   "file_extension": ".py",
   "mimetype": "text/x-python",
   "name": "python",
   "nbconvert_exporter": "python",
   "pygments_lexer": "ipython3",
   "version": "3.7.4"
  }
 },
 "nbformat": 4,
 "nbformat_minor": 4
}
