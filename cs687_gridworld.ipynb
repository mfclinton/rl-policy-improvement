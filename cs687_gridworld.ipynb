{
 "cells": [
  {
   "cell_type": "code",
   "execution_count": 1,
   "metadata": {},
   "outputs": [],
   "source": [
    "import numpy as np"
   ]
  },
  {
   "cell_type": "code",
   "execution_count": 2,
   "metadata": {},
   "outputs": [],
   "source": [
    "class Gridworld():\n",
    "    def __init__(self):\n",
    "        self.MAX_EPS = 100000\n",
    "        self.MAX_TIME_STEPS = 100\n",
    "        self.STATE_DIM = 23\n",
    "        self.NUM_ACTIONS = 4\n",
    "        self.GAMMA = .95\n",
    "        self.NewEpisode()\n",
    "        \n",
    "    \n",
    "    def NewEpisode(self):\n",
    "        self.x = 0\n",
    "        self.y = 0\n",
    "        self.t = 0\n",
    "        self.TAS = False\n",
    "        \n",
    "    def GetState(self):\n",
    "        result = np.zeros(self.STATE_DIM)\n",
    "        \n",
    "        if(not self.TAS):\n",
    "            state = self.y * 5 + self.x\n",
    "            \n",
    "            if (state > 12):\n",
    "                state -= 1\n",
    "            if (state > 16):\n",
    "                state -= 1\n",
    "            result[state] = 1\n",
    "            \n",
    "        return result\n",
    "    \n",
    "    def Transition(self, a):\n",
    "        self.t += 1\n",
    "        if((self.x == 4) and (self.y == 4)):\n",
    "            self.TAS = True\n",
    "            return 0\n",
    "        \n",
    "        if(self.t == self.MAX_TIME_STEPS):\n",
    "            self.TAS = True\n",
    "            return -100\n",
    "        \n",
    "        effective_action = a\n",
    "        temp = np.random.random_sample()\n",
    "        \n",
    "        if(temp <= 0.1):\n",
    "            effective_action = -1 # stay\n",
    "        elif(temp <= 0.15):\n",
    "            effective_action = (effective_action + 1) % self.NUM_ACTIONS #rotate\n",
    "        elif(temp <= 0.2):\n",
    "            effective_action = (effective_action - 1) % self.NUM_ACTIONS #rotate\n",
    "            \n",
    "        x_prime = self.x\n",
    "        y_prime = self.y\n",
    "        if ((effective_action == 0) and (self.y >= 1)):\n",
    "            y_prime -= 1\n",
    "        elif(effective_action == 1):\n",
    "            x_prime += 1\n",
    "        elif(effective_action == 2):\n",
    "            y_prime += 1\n",
    "        elif(effective_action == 3):\n",
    "            x_prime -= 1\n",
    "        \n",
    "        # checks location is valid\n",
    "        if ((x_prime >= 0) and (y_prime >= 0) and (x_prime < 5) and (y_prime < 5) and ((x_prime != 2) or ((y_prime != 2) and (y_prime != 3)))):\n",
    "            self.x = x_prime\n",
    "            self.y = y_prime\n",
    "            \n",
    "        #compute rewards\n",
    "        reward = 0\n",
    "        if((self.x == 2) and (self.y == 4)):\n",
    "            reward = -10\n",
    "        elif((self.x == 4) and (self.y == 4)):\n",
    "            reward = 10\n",
    "        return reward * (self.GAMMA ** (self.t - 1))"
   ]
  },
  {
   "cell_type": "code",
   "execution_count": 3,
   "metadata": {},
   "outputs": [],
   "source": [
    "gridworld = Gridworld()"
   ]
  },
  {
   "cell_type": "code",
   "execution_count": 4,
   "metadata": {},
   "outputs": [],
   "source": [
    "# policy = np.full((gridworld.STATE_DIM, gridworld.NUM_ACTIONS),.25)\n",
    "policy = np.load(\"policies\\\\gw\\\\delta_0.01\\\\safety_0.6097323533319994.npy\")"
   ]
  },
  {
   "cell_type": "code",
   "execution_count": 5,
   "metadata": {},
   "outputs": [],
   "source": [
    "def ExecutePolicy(policy, state):\n",
    "    temp = np.random.random_sample()\n",
    "    total = 0\n",
    "    for a in range(policy.shape[1]):\n",
    "        total += policy[state,a]\n",
    "        if(temp < total):\n",
    "            return a, policy[state,a]\n",
    "    assert False #Error\n",
    "    return -1, -1"
   ]
  },
  {
   "cell_type": "code",
   "execution_count": 6,
   "metadata": {},
   "outputs": [
    {
     "name": "stdout",
     "output_type": "stream",
     "text": [
      "Episode: 0 / 100000\n",
      "Episode: 10000 / 100000\n",
      "Episode: 20000 / 100000\n",
      "Episode: 30000 / 100000\n",
      "Episode: 40000 / 100000\n",
      "Episode: 50000 / 100000\n",
      "Episode: 60000 / 100000\n",
      "Episode: 70000 / 100000\n",
      "Episode: 80000 / 100000\n",
      "Episode: 90000 / 100000\n"
     ]
    }
   ],
   "source": [
    "output = str(gridworld.MAX_EPS) + \"\\n\"\n",
    "for ep in range(gridworld.MAX_EPS):\n",
    "    if(ep % 10000 == 0):\n",
    "        print(\"Episode: \" + str(ep) + \" / \" + str(gridworld.MAX_EPS))\n",
    "    gridworld.NewEpisode()\n",
    "    traj_output = \"\"\n",
    "    while not gridworld.TAS:\n",
    "        state = np.where(gridworld.GetState() != 0)[0][0]\n",
    "        action, pi_s_a = ExecutePolicy(policy, state)\n",
    "        reward = gridworld.Transition(action)\n",
    "        traj_output += str(state) + \",\" + str(action) + \",\" + str(reward) + \",\" + str(pi_s_a) + \"\\n\"\n",
    "    output += str(gridworld.t) + \"\\n\" + traj_output\n",
    "\n",
    "with open(\"gridworld_data.csv\", \"w\") as f:\n",
    "    f.write(output)"
   ]
  },
  {
   "cell_type": "code",
   "execution_count": null,
   "metadata": {},
   "outputs": [],
   "source": []
  }
 ],
 "metadata": {
  "kernelspec": {
   "display_name": "Python 3",
   "language": "python",
   "name": "python3"
  },
  "language_info": {
   "codemirror_mode": {
    "name": "ipython",
    "version": 3
   },
   "file_extension": ".py",
   "mimetype": "text/x-python",
   "name": "python",
   "nbconvert_exporter": "python",
   "pygments_lexer": "ipython3",
   "version": "3.7.4"
  }
 },
 "nbformat": 4,
 "nbformat_minor": 4
}
